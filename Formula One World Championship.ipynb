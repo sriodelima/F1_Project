{
    "cells": [
        {
            "cell_type": "code",
            "execution_count": null,
            "metadata": {},
            "outputs": [],
            "source": "# The code was removed by Watson Studio for sharing."
        },
        {
            "cell_type": "markdown",
            "metadata": {},
            "source": "# Is there a \"must win\" circuit in the championship? Either a particular Grand Prix or the N-th circuit of the championship"
        },
        {
            "cell_type": "markdown",
            "metadata": {},
            "source": "In order to answer this question, we need to lookup at the winner of the last 12 championships and if there is a match between the champion and a circuit"
        },
        {
            "cell_type": "code",
            "execution_count": 1,
            "metadata": {},
            "outputs": [
                {
                    "data": {
                        "text/html": "<div>\n<style scoped>\n    .dataframe tbody tr th:only-of-type {\n        vertical-align: middle;\n    }\n\n    .dataframe tbody tr th {\n        vertical-align: top;\n    }\n\n    .dataframe thead th {\n        text-align: right;\n    }\n</style>\n<table border=\"1\" class=\"dataframe\">\n  <thead>\n    <tr style=\"text-align: right;\">\n      <th></th>\n      <th>circuitId</th>\n      <th>circuitRef</th>\n      <th>name</th>\n      <th>location</th>\n      <th>country</th>\n      <th>lat</th>\n      <th>lng</th>\n      <th>alt</th>\n      <th>url</th>\n    </tr>\n  </thead>\n  <tbody>\n    <tr>\n      <th>0</th>\n      <td>1</td>\n      <td>albert_park</td>\n      <td>Albert Park Grand Prix Circuit</td>\n      <td>Melbourne</td>\n      <td>Australia</td>\n      <td>-37.84970</td>\n      <td>144.96800</td>\n      <td>10</td>\n      <td>http://en.wikipedia.org/wiki/Melbourne_Grand_P...</td>\n    </tr>\n    <tr>\n      <th>1</th>\n      <td>2</td>\n      <td>sepang</td>\n      <td>Sepang International Circuit</td>\n      <td>Kuala Lumpur</td>\n      <td>Malaysia</td>\n      <td>2.76083</td>\n      <td>101.73800</td>\n      <td>18</td>\n      <td>http://en.wikipedia.org/wiki/Sepang_Internatio...</td>\n    </tr>\n    <tr>\n      <th>2</th>\n      <td>3</td>\n      <td>bahrain</td>\n      <td>Bahrain International Circuit</td>\n      <td>Sakhir</td>\n      <td>Bahrain</td>\n      <td>26.03250</td>\n      <td>50.51060</td>\n      <td>7</td>\n      <td>http://en.wikipedia.org/wiki/Bahrain_Internati...</td>\n    </tr>\n    <tr>\n      <th>3</th>\n      <td>4</td>\n      <td>catalunya</td>\n      <td>Circuit de Barcelona-Catalunya</td>\n      <td>Montmel\u00f3</td>\n      <td>Spain</td>\n      <td>41.57000</td>\n      <td>2.26111</td>\n      <td>109</td>\n      <td>http://en.wikipedia.org/wiki/Circuit_de_Barcel...</td>\n    </tr>\n    <tr>\n      <th>4</th>\n      <td>5</td>\n      <td>istanbul</td>\n      <td>Istanbul Park</td>\n      <td>Istanbul</td>\n      <td>Turkey</td>\n      <td>40.95170</td>\n      <td>29.40500</td>\n      <td>130</td>\n      <td>http://en.wikipedia.org/wiki/Istanbul_Park</td>\n    </tr>\n  </tbody>\n</table>\n</div>",
                        "text/plain": "   circuitId   circuitRef                            name      location  \\\n0          1  albert_park  Albert Park Grand Prix Circuit     Melbourne   \n1          2       sepang    Sepang International Circuit  Kuala Lumpur   \n2          3      bahrain   Bahrain International Circuit        Sakhir   \n3          4    catalunya  Circuit de Barcelona-Catalunya      Montmel\u00f3   \n4          5     istanbul                   Istanbul Park      Istanbul   \n\n     country       lat        lng  alt  \\\n0  Australia -37.84970  144.96800   10   \n1   Malaysia   2.76083  101.73800   18   \n2    Bahrain  26.03250   50.51060    7   \n3      Spain  41.57000    2.26111  109   \n4     Turkey  40.95170   29.40500  130   \n\n                                                 url  \n0  http://en.wikipedia.org/wiki/Melbourne_Grand_P...  \n1  http://en.wikipedia.org/wiki/Sepang_Internatio...  \n2  http://en.wikipedia.org/wiki/Bahrain_Internati...  \n3  http://en.wikipedia.org/wiki/Circuit_de_Barcel...  \n4         http://en.wikipedia.org/wiki/Istanbul_Park  "
                    },
                    "execution_count": 1,
                    "metadata": {},
                    "output_type": "execute_result"
                }
            ],
            "source": "# The code was removed by Watson Studio for sharing."
        },
        {
            "cell_type": "code",
            "execution_count": 2,
            "metadata": {},
            "outputs": [],
            "source": "circuits = circuits.drop(['lat', 'lng', 'url'], axis=1)"
        },
        {
            "cell_type": "code",
            "execution_count": 3,
            "metadata": {
                "scrolled": true
            },
            "outputs": [
                {
                    "data": {
                        "text/html": "<div>\n<style scoped>\n    .dataframe tbody tr th:only-of-type {\n        vertical-align: middle;\n    }\n\n    .dataframe tbody tr th {\n        vertical-align: top;\n    }\n\n    .dataframe thead th {\n        text-align: right;\n    }\n</style>\n<table border=\"1\" class=\"dataframe\">\n  <thead>\n    <tr style=\"text-align: right;\">\n      <th></th>\n      <th>resultId</th>\n      <th>raceId</th>\n      <th>driverId</th>\n      <th>constructorId</th>\n      <th>number</th>\n      <th>grid</th>\n      <th>position</th>\n      <th>positionText</th>\n      <th>positionOrder</th>\n      <th>points</th>\n      <th>laps</th>\n      <th>time</th>\n      <th>milliseconds</th>\n      <th>fastestLap</th>\n      <th>rank</th>\n      <th>fastestLapTime</th>\n      <th>fastestLapSpeed</th>\n      <th>statusId</th>\n    </tr>\n  </thead>\n  <tbody>\n    <tr>\n      <th>0</th>\n      <td>1</td>\n      <td>18</td>\n      <td>1</td>\n      <td>1</td>\n      <td>22</td>\n      <td>1</td>\n      <td>1</td>\n      <td>1</td>\n      <td>1</td>\n      <td>10.0</td>\n      <td>58</td>\n      <td>1:34:50.616</td>\n      <td>5690616</td>\n      <td>39</td>\n      <td>2</td>\n      <td>1:27.452</td>\n      <td>218.300</td>\n      <td>1</td>\n    </tr>\n    <tr>\n      <th>1</th>\n      <td>2</td>\n      <td>18</td>\n      <td>2</td>\n      <td>2</td>\n      <td>3</td>\n      <td>5</td>\n      <td>2</td>\n      <td>2</td>\n      <td>2</td>\n      <td>8.0</td>\n      <td>58</td>\n      <td>+5.478</td>\n      <td>5696094</td>\n      <td>41</td>\n      <td>3</td>\n      <td>1:27.739</td>\n      <td>217.586</td>\n      <td>1</td>\n    </tr>\n    <tr>\n      <th>2</th>\n      <td>3</td>\n      <td>18</td>\n      <td>3</td>\n      <td>3</td>\n      <td>7</td>\n      <td>7</td>\n      <td>3</td>\n      <td>3</td>\n      <td>3</td>\n      <td>6.0</td>\n      <td>58</td>\n      <td>+8.163</td>\n      <td>5698779</td>\n      <td>41</td>\n      <td>5</td>\n      <td>1:28.090</td>\n      <td>216.719</td>\n      <td>1</td>\n    </tr>\n    <tr>\n      <th>3</th>\n      <td>4</td>\n      <td>18</td>\n      <td>4</td>\n      <td>4</td>\n      <td>5</td>\n      <td>11</td>\n      <td>4</td>\n      <td>4</td>\n      <td>4</td>\n      <td>5.0</td>\n      <td>58</td>\n      <td>+17.181</td>\n      <td>5707797</td>\n      <td>58</td>\n      <td>7</td>\n      <td>1:28.603</td>\n      <td>215.464</td>\n      <td>1</td>\n    </tr>\n    <tr>\n      <th>4</th>\n      <td>5</td>\n      <td>18</td>\n      <td>5</td>\n      <td>1</td>\n      <td>23</td>\n      <td>3</td>\n      <td>5</td>\n      <td>5</td>\n      <td>5</td>\n      <td>4.0</td>\n      <td>58</td>\n      <td>+18.014</td>\n      <td>5708630</td>\n      <td>43</td>\n      <td>1</td>\n      <td>1:27.418</td>\n      <td>218.385</td>\n      <td>1</td>\n    </tr>\n  </tbody>\n</table>\n</div>",
                        "text/plain": "   resultId  raceId  driverId  constructorId number  grid position  \\\n0         1      18         1              1     22     1        1   \n1         2      18         2              2      3     5        2   \n2         3      18         3              3      7     7        3   \n3         4      18         4              4      5    11        4   \n4         5      18         5              1     23     3        5   \n\n  positionText  positionOrder  points  laps         time milliseconds  \\\n0            1              1    10.0    58  1:34:50.616      5690616   \n1            2              2     8.0    58       +5.478      5696094   \n2            3              3     6.0    58       +8.163      5698779   \n3            4              4     5.0    58      +17.181      5707797   \n4            5              5     4.0    58      +18.014      5708630   \n\n  fastestLap rank fastestLapTime fastestLapSpeed  statusId  \n0         39    2       1:27.452         218.300         1  \n1         41    3       1:27.739         217.586         1  \n2         41    5       1:28.090         216.719         1  \n3         58    7       1:28.603         215.464         1  \n4         43    1       1:27.418         218.385         1  "
                    },
                    "execution_count": 3,
                    "metadata": {},
                    "output_type": "execute_result"
                }
            ],
            "source": "\nbody = client_ff2293c1f18a456e81c3942306f3ba02.get_object(Bucket='f1project-donotdelete-pr-k1g9ydjrtxlhpr',Key='results.csv')['Body']\n# add missing __iter__ method, so pandas accepts body as file-like object\nif not hasattr(body, \"__iter__\"): body.__iter__ = types.MethodType( __iter__, body )\n\nresults = pd.read_csv(body)\nresults.head()\n"
        },
        {
            "cell_type": "code",
            "execution_count": 4,
            "metadata": {},
            "outputs": [],
            "source": "results = results.drop(['constructorId', 'number', 'laps', 'time', 'milliseconds', 'fastestLap', 'rank', 'fastestLapTime','fastestLapSpeed' ], axis=1)"
        },
        {
            "cell_type": "code",
            "execution_count": 5,
            "metadata": {},
            "outputs": [
                {
                    "data": {
                        "text/html": "<div>\n<style scoped>\n    .dataframe tbody tr th:only-of-type {\n        vertical-align: middle;\n    }\n\n    .dataframe tbody tr th {\n        vertical-align: top;\n    }\n\n    .dataframe thead th {\n        text-align: right;\n    }\n</style>\n<table border=\"1\" class=\"dataframe\">\n  <thead>\n    <tr style=\"text-align: right;\">\n      <th></th>\n      <th>resultId</th>\n      <th>raceId</th>\n      <th>driverId</th>\n      <th>grid</th>\n      <th>position</th>\n      <th>positionText</th>\n      <th>positionOrder</th>\n      <th>points</th>\n      <th>statusId</th>\n    </tr>\n  </thead>\n  <tbody>\n    <tr>\n      <th>0</th>\n      <td>1</td>\n      <td>18</td>\n      <td>1</td>\n      <td>1</td>\n      <td>1</td>\n      <td>1</td>\n      <td>1</td>\n      <td>10.0</td>\n      <td>1</td>\n    </tr>\n    <tr>\n      <th>1</th>\n      <td>2</td>\n      <td>18</td>\n      <td>2</td>\n      <td>5</td>\n      <td>2</td>\n      <td>2</td>\n      <td>2</td>\n      <td>8.0</td>\n      <td>1</td>\n    </tr>\n    <tr>\n      <th>2</th>\n      <td>3</td>\n      <td>18</td>\n      <td>3</td>\n      <td>7</td>\n      <td>3</td>\n      <td>3</td>\n      <td>3</td>\n      <td>6.0</td>\n      <td>1</td>\n    </tr>\n    <tr>\n      <th>3</th>\n      <td>4</td>\n      <td>18</td>\n      <td>4</td>\n      <td>11</td>\n      <td>4</td>\n      <td>4</td>\n      <td>4</td>\n      <td>5.0</td>\n      <td>1</td>\n    </tr>\n    <tr>\n      <th>4</th>\n      <td>5</td>\n      <td>18</td>\n      <td>5</td>\n      <td>3</td>\n      <td>5</td>\n      <td>5</td>\n      <td>5</td>\n      <td>4.0</td>\n      <td>1</td>\n    </tr>\n  </tbody>\n</table>\n</div>",
                        "text/plain": "   resultId  raceId  driverId  grid position positionText  positionOrder  \\\n0         1      18         1     1        1            1              1   \n1         2      18         2     5        2            2              2   \n2         3      18         3     7        3            3              3   \n3         4      18         4    11        4            4              4   \n4         5      18         5     3        5            5              5   \n\n   points  statusId  \n0    10.0         1  \n1     8.0         1  \n2     6.0         1  \n3     5.0         1  \n4     4.0         1  "
                    },
                    "execution_count": 5,
                    "metadata": {},
                    "output_type": "execute_result"
                }
            ],
            "source": "results.head()"
        },
        {
            "cell_type": "code",
            "execution_count": 6,
            "metadata": {
                "scrolled": true
            },
            "outputs": [
                {
                    "data": {
                        "text/html": "<div>\n<style scoped>\n    .dataframe tbody tr th:only-of-type {\n        vertical-align: middle;\n    }\n\n    .dataframe tbody tr th {\n        vertical-align: top;\n    }\n\n    .dataframe thead th {\n        text-align: right;\n    }\n</style>\n<table border=\"1\" class=\"dataframe\">\n  <thead>\n    <tr style=\"text-align: right;\">\n      <th></th>\n      <th>driverId</th>\n      <th>driverRef</th>\n      <th>number</th>\n      <th>code</th>\n      <th>forename</th>\n      <th>surname</th>\n      <th>dob</th>\n      <th>nationality</th>\n      <th>url</th>\n    </tr>\n  </thead>\n  <tbody>\n    <tr>\n      <th>0</th>\n      <td>1</td>\n      <td>hamilton</td>\n      <td>44</td>\n      <td>HAM</td>\n      <td>Lewis</td>\n      <td>Hamilton</td>\n      <td>1985-01-07</td>\n      <td>British</td>\n      <td>http://en.wikipedia.org/wiki/Lewis_Hamilton</td>\n    </tr>\n    <tr>\n      <th>1</th>\n      <td>2</td>\n      <td>heidfeld</td>\n      <td>\\N</td>\n      <td>HEI</td>\n      <td>Nick</td>\n      <td>Heidfeld</td>\n      <td>1977-05-10</td>\n      <td>German</td>\n      <td>http://en.wikipedia.org/wiki/Nick_Heidfeld</td>\n    </tr>\n    <tr>\n      <th>2</th>\n      <td>3</td>\n      <td>rosberg</td>\n      <td>6</td>\n      <td>ROS</td>\n      <td>Nico</td>\n      <td>Rosberg</td>\n      <td>1985-06-27</td>\n      <td>German</td>\n      <td>http://en.wikipedia.org/wiki/Nico_Rosberg</td>\n    </tr>\n    <tr>\n      <th>3</th>\n      <td>4</td>\n      <td>alonso</td>\n      <td>14</td>\n      <td>ALO</td>\n      <td>Fernando</td>\n      <td>Alonso</td>\n      <td>1981-07-29</td>\n      <td>Spanish</td>\n      <td>http://en.wikipedia.org/wiki/Fernando_Alonso</td>\n    </tr>\n    <tr>\n      <th>4</th>\n      <td>5</td>\n      <td>kovalainen</td>\n      <td>\\N</td>\n      <td>KOV</td>\n      <td>Heikki</td>\n      <td>Kovalainen</td>\n      <td>1981-10-19</td>\n      <td>Finnish</td>\n      <td>http://en.wikipedia.org/wiki/Heikki_Kovalainen</td>\n    </tr>\n  </tbody>\n</table>\n</div>",
                        "text/plain": "   driverId   driverRef number code  forename     surname         dob  \\\n0         1    hamilton     44  HAM     Lewis    Hamilton  1985-01-07   \n1         2    heidfeld     \\N  HEI      Nick    Heidfeld  1977-05-10   \n2         3     rosberg      6  ROS      Nico     Rosberg  1985-06-27   \n3         4      alonso     14  ALO  Fernando      Alonso  1981-07-29   \n4         5  kovalainen     \\N  KOV    Heikki  Kovalainen  1981-10-19   \n\n  nationality                                             url  \n0     British     http://en.wikipedia.org/wiki/Lewis_Hamilton  \n1      German      http://en.wikipedia.org/wiki/Nick_Heidfeld  \n2      German       http://en.wikipedia.org/wiki/Nico_Rosberg  \n3     Spanish    http://en.wikipedia.org/wiki/Fernando_Alonso  \n4     Finnish  http://en.wikipedia.org/wiki/Heikki_Kovalainen  "
                    },
                    "execution_count": 6,
                    "metadata": {},
                    "output_type": "execute_result"
                }
            ],
            "source": "\nbody = client_ff2293c1f18a456e81c3942306f3ba02.get_object(Bucket='f1project-donotdelete-pr-k1g9ydjrtxlhpr',Key='drivers.csv')['Body']\ndrivers = pd.read_csv(body)\ndrivers.head()\n"
        },
        {
            "cell_type": "code",
            "execution_count": 7,
            "metadata": {},
            "outputs": [
                {
                    "data": {
                        "text/html": "<div>\n<style scoped>\n    .dataframe tbody tr th:only-of-type {\n        vertical-align: middle;\n    }\n\n    .dataframe tbody tr th {\n        vertical-align: top;\n    }\n\n    .dataframe thead th {\n        text-align: right;\n    }\n</style>\n<table border=\"1\" class=\"dataframe\">\n  <thead>\n    <tr style=\"text-align: right;\">\n      <th></th>\n      <th>driverId</th>\n      <th>driverRef</th>\n      <th>forename</th>\n      <th>surname</th>\n    </tr>\n  </thead>\n  <tbody>\n    <tr>\n      <th>0</th>\n      <td>1</td>\n      <td>hamilton</td>\n      <td>Lewis</td>\n      <td>Hamilton</td>\n    </tr>\n    <tr>\n      <th>1</th>\n      <td>2</td>\n      <td>heidfeld</td>\n      <td>Nick</td>\n      <td>Heidfeld</td>\n    </tr>\n    <tr>\n      <th>2</th>\n      <td>3</td>\n      <td>rosberg</td>\n      <td>Nico</td>\n      <td>Rosberg</td>\n    </tr>\n    <tr>\n      <th>3</th>\n      <td>4</td>\n      <td>alonso</td>\n      <td>Fernando</td>\n      <td>Alonso</td>\n    </tr>\n    <tr>\n      <th>4</th>\n      <td>5</td>\n      <td>kovalainen</td>\n      <td>Heikki</td>\n      <td>Kovalainen</td>\n    </tr>\n  </tbody>\n</table>\n</div>",
                        "text/plain": "   driverId   driverRef  forename     surname\n0         1    hamilton     Lewis    Hamilton\n1         2    heidfeld      Nick    Heidfeld\n2         3     rosberg      Nico     Rosberg\n3         4      alonso  Fernando      Alonso\n4         5  kovalainen    Heikki  Kovalainen"
                    },
                    "execution_count": 7,
                    "metadata": {},
                    "output_type": "execute_result"
                }
            ],
            "source": "drivers = drivers.drop(['dob','nationality','url','number','code'], axis=1)\ndrivers.head()"
        },
        {
            "cell_type": "code",
            "execution_count": 8,
            "metadata": {},
            "outputs": [
                {
                    "data": {
                        "text/html": "<div>\n<style scoped>\n    .dataframe tbody tr th:only-of-type {\n        vertical-align: middle;\n    }\n\n    .dataframe tbody tr th {\n        vertical-align: top;\n    }\n\n    .dataframe thead th {\n        text-align: right;\n    }\n</style>\n<table border=\"1\" class=\"dataframe\">\n  <thead>\n    <tr style=\"text-align: right;\">\n      <th></th>\n      <th>raceId</th>\n      <th>year</th>\n      <th>round</th>\n      <th>circuitId</th>\n      <th>name</th>\n      <th>date</th>\n      <th>time</th>\n      <th>url</th>\n    </tr>\n  </thead>\n  <tbody>\n    <tr>\n      <th>0</th>\n      <td>1</td>\n      <td>2009</td>\n      <td>1</td>\n      <td>1</td>\n      <td>Australian Grand Prix</td>\n      <td>2009-03-29</td>\n      <td>06:00:00</td>\n      <td>http://en.wikipedia.org/wiki/2009_Australian_G...</td>\n    </tr>\n    <tr>\n      <th>1</th>\n      <td>2</td>\n      <td>2009</td>\n      <td>2</td>\n      <td>2</td>\n      <td>Malaysian Grand Prix</td>\n      <td>2009-04-05</td>\n      <td>09:00:00</td>\n      <td>http://en.wikipedia.org/wiki/2009_Malaysian_Gr...</td>\n    </tr>\n    <tr>\n      <th>2</th>\n      <td>3</td>\n      <td>2009</td>\n      <td>3</td>\n      <td>17</td>\n      <td>Chinese Grand Prix</td>\n      <td>2009-04-19</td>\n      <td>07:00:00</td>\n      <td>http://en.wikipedia.org/wiki/2009_Chinese_Gran...</td>\n    </tr>\n    <tr>\n      <th>3</th>\n      <td>4</td>\n      <td>2009</td>\n      <td>4</td>\n      <td>3</td>\n      <td>Bahrain Grand Prix</td>\n      <td>2009-04-26</td>\n      <td>12:00:00</td>\n      <td>http://en.wikipedia.org/wiki/2009_Bahrain_Gran...</td>\n    </tr>\n    <tr>\n      <th>4</th>\n      <td>5</td>\n      <td>2009</td>\n      <td>5</td>\n      <td>4</td>\n      <td>Spanish Grand Prix</td>\n      <td>2009-05-10</td>\n      <td>12:00:00</td>\n      <td>http://en.wikipedia.org/wiki/2009_Spanish_Gran...</td>\n    </tr>\n  </tbody>\n</table>\n</div>",
                        "text/plain": "   raceId  year  round  circuitId                   name        date  \\\n0       1  2009      1          1  Australian Grand Prix  2009-03-29   \n1       2  2009      2          2   Malaysian Grand Prix  2009-04-05   \n2       3  2009      3         17     Chinese Grand Prix  2009-04-19   \n3       4  2009      4          3     Bahrain Grand Prix  2009-04-26   \n4       5  2009      5          4     Spanish Grand Prix  2009-05-10   \n\n       time                                                url  \n0  06:00:00  http://en.wikipedia.org/wiki/2009_Australian_G...  \n1  09:00:00  http://en.wikipedia.org/wiki/2009_Malaysian_Gr...  \n2  07:00:00  http://en.wikipedia.org/wiki/2009_Chinese_Gran...  \n3  12:00:00  http://en.wikipedia.org/wiki/2009_Bahrain_Gran...  \n4  12:00:00  http://en.wikipedia.org/wiki/2009_Spanish_Gran...  "
                    },
                    "execution_count": 8,
                    "metadata": {},
                    "output_type": "execute_result"
                }
            ],
            "source": "body = client_ff2293c1f18a456e81c3942306f3ba02.get_object(Bucket='f1project-donotdelete-pr-k1g9ydjrtxlhpr',Key='races.csv')['Body']\nraces = pd.read_csv(body)\nraces.head()\n"
        },
        {
            "cell_type": "code",
            "execution_count": 9,
            "metadata": {},
            "outputs": [],
            "source": "races = races.drop(['date','time','url'], axis=1)"
        },
        {
            "cell_type": "code",
            "execution_count": 10,
            "metadata": {},
            "outputs": [
                {
                    "data": {
                        "text/html": "<div>\n<style scoped>\n    .dataframe tbody tr th:only-of-type {\n        vertical-align: middle;\n    }\n\n    .dataframe tbody tr th {\n        vertical-align: top;\n    }\n\n    .dataframe thead th {\n        text-align: right;\n    }\n</style>\n<table border=\"1\" class=\"dataframe\">\n  <thead>\n    <tr style=\"text-align: right;\">\n      <th></th>\n      <th>raceId</th>\n      <th>year</th>\n      <th>round</th>\n      <th>circuitId</th>\n      <th>name</th>\n    </tr>\n  </thead>\n  <tbody>\n    <tr>\n      <th>0</th>\n      <td>1</td>\n      <td>2009</td>\n      <td>1</td>\n      <td>1</td>\n      <td>Australian Grand Prix</td>\n    </tr>\n    <tr>\n      <th>1</th>\n      <td>2</td>\n      <td>2009</td>\n      <td>2</td>\n      <td>2</td>\n      <td>Malaysian Grand Prix</td>\n    </tr>\n    <tr>\n      <th>2</th>\n      <td>3</td>\n      <td>2009</td>\n      <td>3</td>\n      <td>17</td>\n      <td>Chinese Grand Prix</td>\n    </tr>\n    <tr>\n      <th>3</th>\n      <td>4</td>\n      <td>2009</td>\n      <td>4</td>\n      <td>3</td>\n      <td>Bahrain Grand Prix</td>\n    </tr>\n    <tr>\n      <th>4</th>\n      <td>5</td>\n      <td>2009</td>\n      <td>5</td>\n      <td>4</td>\n      <td>Spanish Grand Prix</td>\n    </tr>\n  </tbody>\n</table>\n</div>",
                        "text/plain": "   raceId  year  round  circuitId                   name\n0       1  2009      1          1  Australian Grand Prix\n1       2  2009      2          2   Malaysian Grand Prix\n2       3  2009      3         17     Chinese Grand Prix\n3       4  2009      4          3     Bahrain Grand Prix\n4       5  2009      5          4     Spanish Grand Prix"
                    },
                    "execution_count": 10,
                    "metadata": {},
                    "output_type": "execute_result"
                }
            ],
            "source": "races.head()"
        },
        {
            "cell_type": "markdown",
            "metadata": {},
            "source": "After importing the different tables and droping the columns I do not need, let's merge the tables so we can have all the information in an unique dataframe"
        },
        {
            "cell_type": "code",
            "execution_count": 11,
            "metadata": {},
            "outputs": [
                {
                    "data": {
                        "text/html": "<div>\n<style scoped>\n    .dataframe tbody tr th:only-of-type {\n        vertical-align: middle;\n    }\n\n    .dataframe tbody tr th {\n        vertical-align: top;\n    }\n\n    .dataframe thead th {\n        text-align: right;\n    }\n</style>\n<table border=\"1\" class=\"dataframe\">\n  <thead>\n    <tr style=\"text-align: right;\">\n      <th></th>\n      <th>resultId</th>\n      <th>raceId</th>\n      <th>driverId</th>\n      <th>grid</th>\n      <th>position</th>\n      <th>positionText</th>\n      <th>positionOrder</th>\n      <th>points</th>\n      <th>statusId</th>\n      <th>year</th>\n      <th>round</th>\n      <th>circuitId</th>\n      <th>name</th>\n    </tr>\n  </thead>\n  <tbody>\n    <tr>\n      <th>0</th>\n      <td>1</td>\n      <td>18</td>\n      <td>1</td>\n      <td>1</td>\n      <td>1</td>\n      <td>1</td>\n      <td>1</td>\n      <td>10.0</td>\n      <td>1</td>\n      <td>2008</td>\n      <td>1</td>\n      <td>1</td>\n      <td>Australian Grand Prix</td>\n    </tr>\n    <tr>\n      <th>1</th>\n      <td>2</td>\n      <td>18</td>\n      <td>2</td>\n      <td>5</td>\n      <td>2</td>\n      <td>2</td>\n      <td>2</td>\n      <td>8.0</td>\n      <td>1</td>\n      <td>2008</td>\n      <td>1</td>\n      <td>1</td>\n      <td>Australian Grand Prix</td>\n    </tr>\n    <tr>\n      <th>2</th>\n      <td>3</td>\n      <td>18</td>\n      <td>3</td>\n      <td>7</td>\n      <td>3</td>\n      <td>3</td>\n      <td>3</td>\n      <td>6.0</td>\n      <td>1</td>\n      <td>2008</td>\n      <td>1</td>\n      <td>1</td>\n      <td>Australian Grand Prix</td>\n    </tr>\n    <tr>\n      <th>3</th>\n      <td>4</td>\n      <td>18</td>\n      <td>4</td>\n      <td>11</td>\n      <td>4</td>\n      <td>4</td>\n      <td>4</td>\n      <td>5.0</td>\n      <td>1</td>\n      <td>2008</td>\n      <td>1</td>\n      <td>1</td>\n      <td>Australian Grand Prix</td>\n    </tr>\n    <tr>\n      <th>4</th>\n      <td>5</td>\n      <td>18</td>\n      <td>5</td>\n      <td>3</td>\n      <td>5</td>\n      <td>5</td>\n      <td>5</td>\n      <td>4.0</td>\n      <td>1</td>\n      <td>2008</td>\n      <td>1</td>\n      <td>1</td>\n      <td>Australian Grand Prix</td>\n    </tr>\n  </tbody>\n</table>\n</div>",
                        "text/plain": "   resultId  raceId  driverId  grid position positionText  positionOrder  \\\n0         1      18         1     1        1            1              1   \n1         2      18         2     5        2            2              2   \n2         3      18         3     7        3            3              3   \n3         4      18         4    11        4            4              4   \n4         5      18         5     3        5            5              5   \n\n   points  statusId  year  round  circuitId                   name  \n0    10.0         1  2008      1          1  Australian Grand Prix  \n1     8.0         1  2008      1          1  Australian Grand Prix  \n2     6.0         1  2008      1          1  Australian Grand Prix  \n3     5.0         1  2008      1          1  Australian Grand Prix  \n4     4.0         1  2008      1          1  Australian Grand Prix  "
                    },
                    "execution_count": 11,
                    "metadata": {},
                    "output_type": "execute_result"
                }
            ],
            "source": "df_sub_data1 = results.merge(races, on='raceId', how='inner')\ndf_sub_data1.head()"
        },
        {
            "cell_type": "code",
            "execution_count": 12,
            "metadata": {},
            "outputs": [
                {
                    "data": {
                        "text/html": "<div>\n<style scoped>\n    .dataframe tbody tr th:only-of-type {\n        vertical-align: middle;\n    }\n\n    .dataframe tbody tr th {\n        vertical-align: top;\n    }\n\n    .dataframe thead th {\n        text-align: right;\n    }\n</style>\n<table border=\"1\" class=\"dataframe\">\n  <thead>\n    <tr style=\"text-align: right;\">\n      <th></th>\n      <th>resultId</th>\n      <th>raceId</th>\n      <th>driverId</th>\n      <th>grid</th>\n      <th>position</th>\n      <th>positionText</th>\n      <th>positionOrder</th>\n      <th>points</th>\n      <th>statusId</th>\n      <th>year</th>\n      <th>round</th>\n      <th>circuitId</th>\n      <th>name</th>\n      <th>driverRef</th>\n      <th>forename</th>\n      <th>surname</th>\n    </tr>\n  </thead>\n  <tbody>\n    <tr>\n      <th>0</th>\n      <td>1</td>\n      <td>18</td>\n      <td>1</td>\n      <td>1</td>\n      <td>1</td>\n      <td>1</td>\n      <td>1</td>\n      <td>10.0</td>\n      <td>1</td>\n      <td>2008</td>\n      <td>1</td>\n      <td>1</td>\n      <td>Australian Grand Prix</td>\n      <td>hamilton</td>\n      <td>Lewis</td>\n      <td>Hamilton</td>\n    </tr>\n    <tr>\n      <th>1</th>\n      <td>27</td>\n      <td>19</td>\n      <td>1</td>\n      <td>9</td>\n      <td>5</td>\n      <td>5</td>\n      <td>5</td>\n      <td>4.0</td>\n      <td>1</td>\n      <td>2008</td>\n      <td>2</td>\n      <td>2</td>\n      <td>Malaysian Grand Prix</td>\n      <td>hamilton</td>\n      <td>Lewis</td>\n      <td>Hamilton</td>\n    </tr>\n    <tr>\n      <th>2</th>\n      <td>57</td>\n      <td>20</td>\n      <td>1</td>\n      <td>3</td>\n      <td>13</td>\n      <td>13</td>\n      <td>13</td>\n      <td>0.0</td>\n      <td>11</td>\n      <td>2008</td>\n      <td>3</td>\n      <td>3</td>\n      <td>Bahrain Grand Prix</td>\n      <td>hamilton</td>\n      <td>Lewis</td>\n      <td>Hamilton</td>\n    </tr>\n    <tr>\n      <th>3</th>\n      <td>69</td>\n      <td>21</td>\n      <td>1</td>\n      <td>5</td>\n      <td>3</td>\n      <td>3</td>\n      <td>3</td>\n      <td>6.0</td>\n      <td>1</td>\n      <td>2008</td>\n      <td>4</td>\n      <td>4</td>\n      <td>Spanish Grand Prix</td>\n      <td>hamilton</td>\n      <td>Lewis</td>\n      <td>Hamilton</td>\n    </tr>\n    <tr>\n      <th>4</th>\n      <td>90</td>\n      <td>22</td>\n      <td>1</td>\n      <td>3</td>\n      <td>2</td>\n      <td>2</td>\n      <td>2</td>\n      <td>8.0</td>\n      <td>1</td>\n      <td>2008</td>\n      <td>5</td>\n      <td>5</td>\n      <td>Turkish Grand Prix</td>\n      <td>hamilton</td>\n      <td>Lewis</td>\n      <td>Hamilton</td>\n    </tr>\n  </tbody>\n</table>\n</div>",
                        "text/plain": "   resultId  raceId  driverId  grid position positionText  positionOrder  \\\n0         1      18         1     1        1            1              1   \n1        27      19         1     9        5            5              5   \n2        57      20         1     3       13           13             13   \n3        69      21         1     5        3            3              3   \n4        90      22         1     3        2            2              2   \n\n   points  statusId  year  round  circuitId                   name driverRef  \\\n0    10.0         1  2008      1          1  Australian Grand Prix  hamilton   \n1     4.0         1  2008      2          2   Malaysian Grand Prix  hamilton   \n2     0.0        11  2008      3          3     Bahrain Grand Prix  hamilton   \n3     6.0         1  2008      4          4     Spanish Grand Prix  hamilton   \n4     8.0         1  2008      5          5     Turkish Grand Prix  hamilton   \n\n  forename   surname  \n0    Lewis  Hamilton  \n1    Lewis  Hamilton  \n2    Lewis  Hamilton  \n3    Lewis  Hamilton  \n4    Lewis  Hamilton  "
                    },
                    "execution_count": 12,
                    "metadata": {},
                    "output_type": "execute_result"
                }
            ],
            "source": "df_sub_data2 = df_sub_data1.merge(drivers, on='driverId', how='inner')\ndf_sub_data2.head()"
        },
        {
            "cell_type": "code",
            "execution_count": 13,
            "metadata": {
                "scrolled": false
            },
            "outputs": [
                {
                    "data": {
                        "text/html": "<div>\n<style scoped>\n    .dataframe tbody tr th:only-of-type {\n        vertical-align: middle;\n    }\n\n    .dataframe tbody tr th {\n        vertical-align: top;\n    }\n\n    .dataframe thead th {\n        text-align: right;\n    }\n</style>\n<table border=\"1\" class=\"dataframe\">\n  <thead>\n    <tr style=\"text-align: right;\">\n      <th></th>\n      <th>resultId</th>\n      <th>grid</th>\n      <th>position</th>\n      <th>positionText</th>\n      <th>positionOrder</th>\n      <th>points</th>\n      <th>statusId</th>\n      <th>year</th>\n      <th>round</th>\n      <th>name</th>\n      <th>driverRef</th>\n      <th>forename</th>\n      <th>surname</th>\n    </tr>\n  </thead>\n  <tbody>\n    <tr>\n      <th>0</th>\n      <td>1</td>\n      <td>1</td>\n      <td>1</td>\n      <td>1</td>\n      <td>1</td>\n      <td>10.0</td>\n      <td>1</td>\n      <td>2008</td>\n      <td>1</td>\n      <td>Australian Grand Prix</td>\n      <td>hamilton</td>\n      <td>Lewis</td>\n      <td>Hamilton</td>\n    </tr>\n    <tr>\n      <th>1</th>\n      <td>27</td>\n      <td>9</td>\n      <td>5</td>\n      <td>5</td>\n      <td>5</td>\n      <td>4.0</td>\n      <td>1</td>\n      <td>2008</td>\n      <td>2</td>\n      <td>Malaysian Grand Prix</td>\n      <td>hamilton</td>\n      <td>Lewis</td>\n      <td>Hamilton</td>\n    </tr>\n    <tr>\n      <th>2</th>\n      <td>57</td>\n      <td>3</td>\n      <td>13</td>\n      <td>13</td>\n      <td>13</td>\n      <td>0.0</td>\n      <td>11</td>\n      <td>2008</td>\n      <td>3</td>\n      <td>Bahrain Grand Prix</td>\n      <td>hamilton</td>\n      <td>Lewis</td>\n      <td>Hamilton</td>\n    </tr>\n    <tr>\n      <th>3</th>\n      <td>69</td>\n      <td>5</td>\n      <td>3</td>\n      <td>3</td>\n      <td>3</td>\n      <td>6.0</td>\n      <td>1</td>\n      <td>2008</td>\n      <td>4</td>\n      <td>Spanish Grand Prix</td>\n      <td>hamilton</td>\n      <td>Lewis</td>\n      <td>Hamilton</td>\n    </tr>\n    <tr>\n      <th>4</th>\n      <td>90</td>\n      <td>3</td>\n      <td>2</td>\n      <td>2</td>\n      <td>2</td>\n      <td>8.0</td>\n      <td>1</td>\n      <td>2008</td>\n      <td>5</td>\n      <td>Turkish Grand Prix</td>\n      <td>hamilton</td>\n      <td>Lewis</td>\n      <td>Hamilton</td>\n    </tr>\n  </tbody>\n</table>\n</div>",
                        "text/plain": "   resultId  grid position positionText  positionOrder  points  statusId  \\\n0         1     1        1            1              1    10.0         1   \n1        27     9        5            5              5     4.0         1   \n2        57     3       13           13             13     0.0        11   \n3        69     5        3            3              3     6.0         1   \n4        90     3        2            2              2     8.0         1   \n\n   year  round                   name driverRef forename   surname  \n0  2008      1  Australian Grand Prix  hamilton    Lewis  Hamilton  \n1  2008      2   Malaysian Grand Prix  hamilton    Lewis  Hamilton  \n2  2008      3     Bahrain Grand Prix  hamilton    Lewis  Hamilton  \n3  2008      4     Spanish Grand Prix  hamilton    Lewis  Hamilton  \n4  2008      5     Turkish Grand Prix  hamilton    Lewis  Hamilton  "
                    },
                    "execution_count": 13,
                    "metadata": {},
                    "output_type": "execute_result"
                }
            ],
            "source": "df_data = df_sub_data2.drop(['raceId', 'driverId', 'circuitId'], axis=1)\ndf_data.head()"
        },
        {
            "cell_type": "code",
            "execution_count": 14,
            "metadata": {},
            "outputs": [
                {
                    "data": {
                        "text/html": "<div>\n<style scoped>\n    .dataframe tbody tr th:only-of-type {\n        vertical-align: middle;\n    }\n\n    .dataframe tbody tr th {\n        vertical-align: top;\n    }\n\n    .dataframe thead th {\n        text-align: right;\n    }\n</style>\n<table border=\"1\" class=\"dataframe\">\n  <thead>\n    <tr style=\"text-align: right;\">\n      <th></th>\n      <th>grid</th>\n      <th>position</th>\n      <th>positionText</th>\n      <th>positionOrder</th>\n      <th>points</th>\n      <th>statusId</th>\n      <th>year</th>\n      <th>round</th>\n      <th>name</th>\n      <th>driverRef</th>\n      <th>forename</th>\n      <th>surname</th>\n    </tr>\n    <tr>\n      <th>resultId</th>\n      <th></th>\n      <th></th>\n      <th></th>\n      <th></th>\n      <th></th>\n      <th></th>\n      <th></th>\n      <th></th>\n      <th></th>\n      <th></th>\n      <th></th>\n      <th></th>\n    </tr>\n  </thead>\n  <tbody>\n    <tr>\n      <th>1</th>\n      <td>1</td>\n      <td>1</td>\n      <td>1</td>\n      <td>1</td>\n      <td>10.0</td>\n      <td>1</td>\n      <td>2008</td>\n      <td>1</td>\n      <td>Australian Grand Prix</td>\n      <td>hamilton</td>\n      <td>Lewis</td>\n      <td>Hamilton</td>\n    </tr>\n    <tr>\n      <th>27</th>\n      <td>9</td>\n      <td>5</td>\n      <td>5</td>\n      <td>5</td>\n      <td>4.0</td>\n      <td>1</td>\n      <td>2008</td>\n      <td>2</td>\n      <td>Malaysian Grand Prix</td>\n      <td>hamilton</td>\n      <td>Lewis</td>\n      <td>Hamilton</td>\n    </tr>\n    <tr>\n      <th>57</th>\n      <td>3</td>\n      <td>13</td>\n      <td>13</td>\n      <td>13</td>\n      <td>0.0</td>\n      <td>11</td>\n      <td>2008</td>\n      <td>3</td>\n      <td>Bahrain Grand Prix</td>\n      <td>hamilton</td>\n      <td>Lewis</td>\n      <td>Hamilton</td>\n    </tr>\n    <tr>\n      <th>69</th>\n      <td>5</td>\n      <td>3</td>\n      <td>3</td>\n      <td>3</td>\n      <td>6.0</td>\n      <td>1</td>\n      <td>2008</td>\n      <td>4</td>\n      <td>Spanish Grand Prix</td>\n      <td>hamilton</td>\n      <td>Lewis</td>\n      <td>Hamilton</td>\n    </tr>\n    <tr>\n      <th>90</th>\n      <td>3</td>\n      <td>2</td>\n      <td>2</td>\n      <td>2</td>\n      <td>8.0</td>\n      <td>1</td>\n      <td>2008</td>\n      <td>5</td>\n      <td>Turkish Grand Prix</td>\n      <td>hamilton</td>\n      <td>Lewis</td>\n      <td>Hamilton</td>\n    </tr>\n    <tr>\n      <th>...</th>\n      <td>...</td>\n      <td>...</td>\n      <td>...</td>\n      <td>...</td>\n      <td>...</td>\n      <td>...</td>\n      <td>...</td>\n      <td>...</td>\n      <td>...</td>\n      <td>...</td>\n      <td>...</td>\n      <td>...</td>\n    </tr>\n    <tr>\n      <th>25302</th>\n      <td>17</td>\n      <td>17</td>\n      <td>17</td>\n      <td>17</td>\n      <td>0.0</td>\n      <td>12</td>\n      <td>2021</td>\n      <td>17</td>\n      <td>United States Grand Prix</td>\n      <td>mazepin</td>\n      <td>Nikita</td>\n      <td>Mazepin</td>\n    </tr>\n    <tr>\n      <th>25323</th>\n      <td>15</td>\n      <td>18</td>\n      <td>18</td>\n      <td>18</td>\n      <td>0.0</td>\n      <td>13</td>\n      <td>2021</td>\n      <td>18</td>\n      <td>Mexico City Grand Prix</td>\n      <td>mazepin</td>\n      <td>Nikita</td>\n      <td>Mazepin</td>\n    </tr>\n    <tr>\n      <th>25342</th>\n      <td>19</td>\n      <td>17</td>\n      <td>17</td>\n      <td>17</td>\n      <td>0.0</td>\n      <td>12</td>\n      <td>2021</td>\n      <td>19</td>\n      <td>S\u00e3o Paulo Grand Prix</td>\n      <td>mazepin</td>\n      <td>Nikita</td>\n      <td>Mazepin</td>\n    </tr>\n    <tr>\n      <th>25363</th>\n      <td>20</td>\n      <td>18</td>\n      <td>18</td>\n      <td>18</td>\n      <td>0.0</td>\n      <td>12</td>\n      <td>2021</td>\n      <td>20</td>\n      <td>Qatar Grand Prix</td>\n      <td>mazepin</td>\n      <td>Nikita</td>\n      <td>Mazepin</td>\n    </tr>\n    <tr>\n      <th>25383</th>\n      <td>20</td>\n      <td>\\N</td>\n      <td>R</td>\n      <td>18</td>\n      <td>0.0</td>\n      <td>4</td>\n      <td>2021</td>\n      <td>21</td>\n      <td>Saudi Arabian Grand Prix</td>\n      <td>mazepin</td>\n      <td>Nikita</td>\n      <td>Mazepin</td>\n    </tr>\n  </tbody>\n</table>\n<p>25399 rows \u00d7 12 columns</p>\n</div>",
                        "text/plain": "          grid position positionText  positionOrder  points  statusId  year  \\\nresultId                                                                      \n1            1        1            1              1    10.0         1  2008   \n27           9        5            5              5     4.0         1  2008   \n57           3       13           13             13     0.0        11  2008   \n69           5        3            3              3     6.0         1  2008   \n90           3        2            2              2     8.0         1  2008   \n...        ...      ...          ...            ...     ...       ...   ...   \n25302       17       17           17             17     0.0        12  2021   \n25323       15       18           18             18     0.0        13  2021   \n25342       19       17           17             17     0.0        12  2021   \n25363       20       18           18             18     0.0        12  2021   \n25383       20       \\N            R             18     0.0         4  2021   \n\n          round                      name driverRef forename   surname  \nresultId                                                                \n1             1     Australian Grand Prix  hamilton    Lewis  Hamilton  \n27            2      Malaysian Grand Prix  hamilton    Lewis  Hamilton  \n57            3        Bahrain Grand Prix  hamilton    Lewis  Hamilton  \n69            4        Spanish Grand Prix  hamilton    Lewis  Hamilton  \n90            5        Turkish Grand Prix  hamilton    Lewis  Hamilton  \n...         ...                       ...       ...      ...       ...  \n25302        17  United States Grand Prix   mazepin   Nikita   Mazepin  \n25323        18    Mexico City Grand Prix   mazepin   Nikita   Mazepin  \n25342        19      S\u00e3o Paulo Grand Prix   mazepin   Nikita   Mazepin  \n25363        20          Qatar Grand Prix   mazepin   Nikita   Mazepin  \n25383        21  Saudi Arabian Grand Prix   mazepin   Nikita   Mazepin  \n\n[25399 rows x 12 columns]"
                    },
                    "execution_count": 14,
                    "metadata": {},
                    "output_type": "execute_result"
                }
            ],
            "source": "df_data.set_index('resultId')"
        },
        {
            "cell_type": "code",
            "execution_count": 15,
            "metadata": {},
            "outputs": [],
            "source": "df_data = df_data[df_data.year >= 2010]"
        },
        {
            "cell_type": "markdown",
            "metadata": {},
            "source": "## ANALYSIS (RESUME FROM HERE)"
        },
        {
            "cell_type": "code",
            "execution_count": 31,
            "metadata": {},
            "outputs": [],
            "source": "df_data_raking = df_data.sort_values(by=['points'], ascending = False)"
        },
        {
            "cell_type": "code",
            "execution_count": 46,
            "metadata": {},
            "outputs": [
                {
                    "data": {
                        "text/html": "<div>\n<style scoped>\n    .dataframe tbody tr th:only-of-type {\n        vertical-align: middle;\n    }\n\n    .dataframe tbody tr th {\n        vertical-align: top;\n    }\n\n    .dataframe thead th {\n        text-align: right;\n    }\n</style>\n<table border=\"1\" class=\"dataframe\">\n  <thead>\n    <tr style=\"text-align: right;\">\n      <th></th>\n      <th>driverStandingsId</th>\n      <th>points</th>\n      <th>position</th>\n      <th>positionText</th>\n      <th>wins</th>\n      <th>year</th>\n      <th>round</th>\n      <th>name</th>\n      <th>driverRef</th>\n      <th>forename</th>\n      <th>surname</th>\n    </tr>\n  </thead>\n  <tbody>\n    <tr>\n      <th>11720</th>\n      <td>70741</td>\n      <td>395.5</td>\n      <td>1</td>\n      <td>1</td>\n      <td>10</td>\n      <td>2021</td>\n      <td>22</td>\n      <td>Abu Dhabi Grand Prix</td>\n      <td>max_verstappen</td>\n      <td>Max</td>\n      <td>Verstappen</td>\n    </tr>\n    <tr>\n      <th>287</th>\n      <td>70740</td>\n      <td>387.5</td>\n      <td>2</td>\n      <td>2</td>\n      <td>8</td>\n      <td>2021</td>\n      <td>22</td>\n      <td>Abu Dhabi Grand Prix</td>\n      <td>hamilton</td>\n      <td>Lewis</td>\n      <td>Hamilton</td>\n    </tr>\n    <tr>\n      <th>11719</th>\n      <td>70720</td>\n      <td>369.5</td>\n      <td>1</td>\n      <td>1</td>\n      <td>9</td>\n      <td>2021</td>\n      <td>21</td>\n      <td>Saudi Arabian Grand Prix</td>\n      <td>max_verstappen</td>\n      <td>Max</td>\n      <td>Verstappen</td>\n    </tr>\n    <tr>\n      <th>286</th>\n      <td>70719</td>\n      <td>369.5</td>\n      <td>2</td>\n      <td>2</td>\n      <td>8</td>\n      <td>2021</td>\n      <td>21</td>\n      <td>Saudi Arabian Grand Prix</td>\n      <td>hamilton</td>\n      <td>Lewis</td>\n      <td>Hamilton</td>\n    </tr>\n    <tr>\n      <th>11699</th>\n      <td>70699</td>\n      <td>351.5</td>\n      <td>1</td>\n      <td>1</td>\n      <td>9</td>\n      <td>2021</td>\n      <td>20</td>\n      <td>Qatar Grand Prix</td>\n      <td>max_verstappen</td>\n      <td>Max</td>\n      <td>Verstappen</td>\n    </tr>\n    <tr>\n      <th>...</th>\n      <td>...</td>\n      <td>...</td>\n      <td>...</td>\n      <td>...</td>\n      <td>...</td>\n      <td>...</td>\n      <td>...</td>\n      <td>...</td>\n      <td>...</td>\n      <td>...</td>\n      <td>...</td>\n    </tr>\n    <tr>\n      <th>12447</th>\n      <td>70243</td>\n      <td>0.0</td>\n      <td>13</td>\n      <td>13</td>\n      <td>0</td>\n      <td>2021</td>\n      <td>1</td>\n      <td>Bahrain Grand Prix</td>\n      <td>ocon</td>\n      <td>Esteban</td>\n      <td>Ocon</td>\n    </tr>\n    <tr>\n      <th>12724</th>\n      <td>70342</td>\n      <td>0.0</td>\n      <td>15</td>\n      <td>15</td>\n      <td>0</td>\n      <td>2021</td>\n      <td>4</td>\n      <td>Spanish Grand Prix</td>\n      <td>giovinazzi</td>\n      <td>Antonio</td>\n      <td>Giovinazzi</td>\n    </tr>\n    <tr>\n      <th>12723</th>\n      <td>70322</td>\n      <td>0.0</td>\n      <td>15</td>\n      <td>15</td>\n      <td>0</td>\n      <td>2021</td>\n      <td>3</td>\n      <td>Portuguese Grand Prix</td>\n      <td>giovinazzi</td>\n      <td>Antonio</td>\n      <td>Giovinazzi</td>\n    </tr>\n    <tr>\n      <th>12722</th>\n      <td>70302</td>\n      <td>0.0</td>\n      <td>15</td>\n      <td>15</td>\n      <td>0</td>\n      <td>2021</td>\n      <td>2</td>\n      <td>Emilia Romagna Grand Prix</td>\n      <td>giovinazzi</td>\n      <td>Antonio</td>\n      <td>Giovinazzi</td>\n    </tr>\n    <tr>\n      <th>12721</th>\n      <td>70242</td>\n      <td>0.0</td>\n      <td>12</td>\n      <td>12</td>\n      <td>0</td>\n      <td>2021</td>\n      <td>1</td>\n      <td>Bahrain Grand Prix</td>\n      <td>giovinazzi</td>\n      <td>Antonio</td>\n      <td>Giovinazzi</td>\n    </tr>\n  </tbody>\n</table>\n<p>450 rows \u00d7 11 columns</p>\n</div>",
                        "text/plain": "       driverStandingsId  points  position positionText  wins  year  round  \\\n11720              70741   395.5         1            1    10  2021     22   \n287                70740   387.5         2            2     8  2021     22   \n11719              70720   369.5         1            1     9  2021     21   \n286                70719   369.5         2            2     8  2021     21   \n11699              70699   351.5         1            1     9  2021     20   \n...                  ...     ...       ...          ...   ...   ...    ...   \n12447              70243     0.0        13           13     0  2021      1   \n12724              70342     0.0        15           15     0  2021      4   \n12723              70322     0.0        15           15     0  2021      3   \n12722              70302     0.0        15           15     0  2021      2   \n12721              70242     0.0        12           12     0  2021      1   \n\n                            name       driverRef forename     surname  \n11720       Abu Dhabi Grand Prix  max_verstappen      Max  Verstappen  \n287         Abu Dhabi Grand Prix        hamilton    Lewis    Hamilton  \n11719   Saudi Arabian Grand Prix  max_verstappen      Max  Verstappen  \n286     Saudi Arabian Grand Prix        hamilton    Lewis    Hamilton  \n11699           Qatar Grand Prix  max_verstappen      Max  Verstappen  \n...                          ...             ...      ...         ...  \n12447         Bahrain Grand Prix            ocon  Esteban        Ocon  \n12724         Spanish Grand Prix      giovinazzi  Antonio  Giovinazzi  \n12723      Portuguese Grand Prix      giovinazzi  Antonio  Giovinazzi  \n12722  Emilia Romagna Grand Prix      giovinazzi  Antonio  Giovinazzi  \n12721         Bahrain Grand Prix      giovinazzi  Antonio  Giovinazzi  \n\n[450 rows x 11 columns]"
                    },
                    "execution_count": 46,
                    "metadata": {},
                    "output_type": "execute_result"
                }
            ],
            "source": "df_data_raking[df_data_raking.year == 2021]"
        },
        {
            "cell_type": "code",
            "execution_count": 53,
            "metadata": {},
            "outputs": [
                {
                    "data": {
                        "text/plain": "Abu Dhabi Grand Prix           281\nItalian Grand Prix             273\nBelgian Grand Prix             271\nHungarian Grand Prix           267\nBritish Grand Prix             266\nSpanish Grand Prix             262\nBahrain Grand Prix             258\nMonaco Grand Prix              242\nBrazilian Grand Prix           237\nJapanese Grand Prix            235\nSingapore Grand Prix           234\nCanadian Grand Prix            223\nChinese Grand Prix             220\nAustralian Grand Prix          212\nUnited States Grand Prix       203\nMalaysian Grand Prix           185\nGerman Grand Prix              183\nRussian Grand Prix             171\nAustrian Grand Prix            168\nMexican Grand Prix             111\nKorean Grand Prix              102\nEuropean Grand Prix             96\nTurkish Grand Prix              90\nAzerbaijan Grand Prix           82\nIndian Grand Prix               75\nFrench Grand Prix               60\nEmilia Romagna Grand Prix       41\nPortuguese Grand Prix           41\nStyrian Grand Prix              40\nSakhir Grand Prix               23\nQatar Grand Prix                21\nTuscan Grand Prix               21\nEifel Grand Prix                21\nMexico City Grand Prix          21\nS\u00e3o Paulo Grand Prix            21\nDutch Grand Prix                21\nSaudi Arabian Grand Prix        21\n70th Anniversary Grand Prix     21\nName: name, dtype: int64"
                    },
                    "execution_count": 53,
                    "metadata": {},
                    "output_type": "execute_result"
                }
            ],
            "source": "df_data.name.value_counts()"
        },
        {
            "cell_type": "code",
            "execution_count": 54,
            "metadata": {},
            "outputs": [
                {
                    "data": {
                        "text/html": "<div>\n<style scoped>\n    .dataframe tbody tr th:only-of-type {\n        vertical-align: middle;\n    }\n\n    .dataframe tbody tr th {\n        vertical-align: top;\n    }\n\n    .dataframe thead th {\n        text-align: right;\n    }\n</style>\n<table border=\"1\" class=\"dataframe\">\n  <thead>\n    <tr style=\"text-align: right;\">\n      <th></th>\n      <th>driverStandingsId</th>\n      <th>points</th>\n      <th>position</th>\n      <th>positionText</th>\n      <th>wins</th>\n      <th>year</th>\n      <th>round</th>\n      <th>name</th>\n      <th>driverRef</th>\n      <th>forename</th>\n      <th>surname</th>\n    </tr>\n  </thead>\n  <tbody>\n    <tr>\n      <th>259</th>\n      <td>70039</td>\n      <td>230.0</td>\n      <td>1</td>\n      <td>1</td>\n      <td>7</td>\n      <td>2020</td>\n      <td>11</td>\n      <td>Eifel Grand Prix</td>\n      <td>hamilton</td>\n      <td>Lewis</td>\n      <td>Hamilton</td>\n    </tr>\n    <tr>\n      <th>1532</th>\n      <td>70049</td>\n      <td>2.0</td>\n      <td>17</td>\n      <td>17</td>\n      <td>0</td>\n      <td>2020</td>\n      <td>11</td>\n      <td>Eifel Grand Prix</td>\n      <td>raikkonen</td>\n      <td>Kimi</td>\n      <td>R\u00e4ikk\u00f6nen</td>\n    </tr>\n    <tr>\n      <th>4142</th>\n      <td>70045</td>\n      <td>17.0</td>\n      <td>13</td>\n      <td>13</td>\n      <td>0</td>\n      <td>2020</td>\n      <td>11</td>\n      <td>Eifel Grand Prix</td>\n      <td>vettel</td>\n      <td>Sebastian</td>\n      <td>Vettel</td>\n    </tr>\n    <tr>\n      <th>11692</th>\n      <td>70055</td>\n      <td>147.0</td>\n      <td>3</td>\n      <td>3</td>\n      <td>1</td>\n      <td>2020</td>\n      <td>11</td>\n      <td>Eifel Grand Prix</td>\n      <td>max_verstappen</td>\n      <td>Max</td>\n      <td>Verstappen</td>\n    </tr>\n    <tr>\n      <th>11872</th>\n      <td>70036</td>\n      <td>161.0</td>\n      <td>2</td>\n      <td>2</td>\n      <td>2</td>\n      <td>2020</td>\n      <td>11</td>\n      <td>Eifel Grand Prix</td>\n      <td>bottas</td>\n      <td>Valtteri</td>\n      <td>Bottas</td>\n    </tr>\n    <tr>\n      <th>12090</th>\n      <td>70041</td>\n      <td>68.0</td>\n      <td>5</td>\n      <td>5</td>\n      <td>0</td>\n      <td>2020</td>\n      <td>11</td>\n      <td>Eifel Grand Prix</td>\n      <td>perez</td>\n      <td>Sergio</td>\n      <td>P\u00e9rez</td>\n    </tr>\n    <tr>\n      <th>12232</th>\n      <td>70040</td>\n      <td>51.0</td>\n      <td>11</td>\n      <td>11</td>\n      <td>0</td>\n      <td>2020</td>\n      <td>11</td>\n      <td>Eifel Grand Prix</td>\n      <td>sainz</td>\n      <td>Carlos</td>\n      <td>Sainz</td>\n    </tr>\n    <tr>\n      <th>12372</th>\n      <td>70047</td>\n      <td>14.0</td>\n      <td>14</td>\n      <td>14</td>\n      <td>0</td>\n      <td>2020</td>\n      <td>11</td>\n      <td>Eifel Grand Prix</td>\n      <td>kvyat</td>\n      <td>Daniil</td>\n      <td>Kvyat</td>\n    </tr>\n    <tr>\n      <th>12439</th>\n      <td>70043</td>\n      <td>36.0</td>\n      <td>12</td>\n      <td>12</td>\n      <td>0</td>\n      <td>2020</td>\n      <td>11</td>\n      <td>Eifel Grand Prix</td>\n      <td>ocon</td>\n      <td>Esteban</td>\n      <td>Ocon</td>\n    </tr>\n    <tr>\n      <th>12655</th>\n      <td>70056</td>\n      <td>10.0</td>\n      <td>15</td>\n      <td>15</td>\n      <td>0</td>\n      <td>2020</td>\n      <td>11</td>\n      <td>Eifel Grand Prix</td>\n      <td>hulkenberg</td>\n      <td>Nico</td>\n      <td>H\u00fclkenberg</td>\n    </tr>\n    <tr>\n      <th>12713</th>\n      <td>70044</td>\n      <td>3.0</td>\n      <td>16</td>\n      <td>16</td>\n      <td>0</td>\n      <td>2020</td>\n      <td>11</td>\n      <td>Eifel Grand Prix</td>\n      <td>giovinazzi</td>\n      <td>Antonio</td>\n      <td>Giovinazzi</td>\n    </tr>\n    <tr>\n      <th>12934</th>\n      <td>70052</td>\n      <td>1.0</td>\n      <td>19</td>\n      <td>19</td>\n      <td>0</td>\n      <td>2020</td>\n      <td>11</td>\n      <td>Eifel Grand Prix</td>\n      <td>kevin_magnussen</td>\n      <td>Kevin</td>\n      <td>Magnussen</td>\n    </tr>\n    <tr>\n      <th>13013</th>\n      <td>70053</td>\n      <td>57.0</td>\n      <td>9</td>\n      <td>9</td>\n      <td>0</td>\n      <td>2020</td>\n      <td>11</td>\n      <td>Eifel Grand Prix</td>\n      <td>stroll</td>\n      <td>Lance</td>\n      <td>Stroll</td>\n    </tr>\n    <tr>\n      <th>13224</th>\n      <td>70054</td>\n      <td>78.0</td>\n      <td>4</td>\n      <td>4</td>\n      <td>0</td>\n      <td>2020</td>\n      <td>11</td>\n      <td>Eifel Grand Prix</td>\n      <td>ricciardo</td>\n      <td>Daniel</td>\n      <td>Ricciardo</td>\n    </tr>\n    <tr>\n      <th>13572</th>\n      <td>70051</td>\n      <td>2.0</td>\n      <td>18</td>\n      <td>18</td>\n      <td>0</td>\n      <td>2020</td>\n      <td>11</td>\n      <td>Eifel Grand Prix</td>\n      <td>grosjean</td>\n      <td>Romain</td>\n      <td>Grosjean</td>\n    </tr>\n    <tr>\n      <th>32961</th>\n      <td>70042</td>\n      <td>53.0</td>\n      <td>10</td>\n      <td>10</td>\n      <td>1</td>\n      <td>2020</td>\n      <td>11</td>\n      <td>Eifel Grand Prix</td>\n      <td>gasly</td>\n      <td>Pierre</td>\n      <td>Gasly</td>\n    </tr>\n    <tr>\n      <th>33068</th>\n      <td>70037</td>\n      <td>63.0</td>\n      <td>8</td>\n      <td>8</td>\n      <td>0</td>\n      <td>2020</td>\n      <td>11</td>\n      <td>Eifel Grand Prix</td>\n      <td>leclerc</td>\n      <td>Charles</td>\n      <td>Leclerc</td>\n    </tr>\n    <tr>\n      <th>33150</th>\n      <td>70050</td>\n      <td>0.0</td>\n      <td>21</td>\n      <td>21</td>\n      <td>0</td>\n      <td>2020</td>\n      <td>11</td>\n      <td>Eifel Grand Prix</td>\n      <td>russell</td>\n      <td>George</td>\n      <td>Russell</td>\n    </tr>\n    <tr>\n      <th>33211</th>\n      <td>70048</td>\n      <td>64.0</td>\n      <td>7</td>\n      <td>7</td>\n      <td>0</td>\n      <td>2020</td>\n      <td>11</td>\n      <td>Eifel Grand Prix</td>\n      <td>albon</td>\n      <td>Alexander</td>\n      <td>Albon</td>\n    </tr>\n    <tr>\n      <th>33250</th>\n      <td>70038</td>\n      <td>65.0</td>\n      <td>6</td>\n      <td>6</td>\n      <td>0</td>\n      <td>2020</td>\n      <td>11</td>\n      <td>Eifel Grand Prix</td>\n      <td>norris</td>\n      <td>Lando</td>\n      <td>Norris</td>\n    </tr>\n    <tr>\n      <th>33290</th>\n      <td>70046</td>\n      <td>0.0</td>\n      <td>20</td>\n      <td>20</td>\n      <td>0</td>\n      <td>2020</td>\n      <td>11</td>\n      <td>Eifel Grand Prix</td>\n      <td>latifi</td>\n      <td>Nicholas</td>\n      <td>Latifi</td>\n    </tr>\n  </tbody>\n</table>\n</div>",
                        "text/plain": "       driverStandingsId  points  position positionText  wins  year  round  \\\n259                70039   230.0         1            1     7  2020     11   \n1532               70049     2.0        17           17     0  2020     11   \n4142               70045    17.0        13           13     0  2020     11   \n11692              70055   147.0         3            3     1  2020     11   \n11872              70036   161.0         2            2     2  2020     11   \n12090              70041    68.0         5            5     0  2020     11   \n12232              70040    51.0        11           11     0  2020     11   \n12372              70047    14.0        14           14     0  2020     11   \n12439              70043    36.0        12           12     0  2020     11   \n12655              70056    10.0        15           15     0  2020     11   \n12713              70044     3.0        16           16     0  2020     11   \n12934              70052     1.0        19           19     0  2020     11   \n13013              70053    57.0         9            9     0  2020     11   \n13224              70054    78.0         4            4     0  2020     11   \n13572              70051     2.0        18           18     0  2020     11   \n32961              70042    53.0        10           10     1  2020     11   \n33068              70037    63.0         8            8     0  2020     11   \n33150              70050     0.0        21           21     0  2020     11   \n33211              70048    64.0         7            7     0  2020     11   \n33250              70038    65.0         6            6     0  2020     11   \n33290              70046     0.0        20           20     0  2020     11   \n\n                   name        driverRef   forename     surname  \n259    Eifel Grand Prix         hamilton      Lewis    Hamilton  \n1532   Eifel Grand Prix        raikkonen       Kimi   R\u00e4ikk\u00f6nen  \n4142   Eifel Grand Prix           vettel  Sebastian      Vettel  \n11692  Eifel Grand Prix   max_verstappen        Max  Verstappen  \n11872  Eifel Grand Prix           bottas   Valtteri      Bottas  \n12090  Eifel Grand Prix            perez     Sergio       P\u00e9rez  \n12232  Eifel Grand Prix            sainz     Carlos       Sainz  \n12372  Eifel Grand Prix            kvyat     Daniil       Kvyat  \n12439  Eifel Grand Prix             ocon    Esteban        Ocon  \n12655  Eifel Grand Prix       hulkenberg       Nico  H\u00fclkenberg  \n12713  Eifel Grand Prix       giovinazzi    Antonio  Giovinazzi  \n12934  Eifel Grand Prix  kevin_magnussen      Kevin   Magnussen  \n13013  Eifel Grand Prix           stroll      Lance      Stroll  \n13224  Eifel Grand Prix        ricciardo     Daniel   Ricciardo  \n13572  Eifel Grand Prix         grosjean     Romain    Grosjean  \n32961  Eifel Grand Prix            gasly     Pierre       Gasly  \n33068  Eifel Grand Prix          leclerc    Charles     Leclerc  \n33150  Eifel Grand Prix          russell     George     Russell  \n33211  Eifel Grand Prix            albon  Alexander       Albon  \n33250  Eifel Grand Prix           norris      Lando      Norris  \n33290  Eifel Grand Prix           latifi   Nicholas      Latifi  "
                    },
                    "execution_count": 54,
                    "metadata": {},
                    "output_type": "execute_result"
                }
            ],
            "source": "df_data[df_data.name == 'Eifel Grand Prix']"
        },
        {
            "cell_type": "code",
            "execution_count": 85,
            "metadata": {},
            "outputs": [
                {
                    "data": {
                        "text/html": "<div>\n<style scoped>\n    .dataframe tbody tr th:only-of-type {\n        vertical-align: middle;\n    }\n\n    .dataframe tbody tr th {\n        vertical-align: top;\n    }\n\n    .dataframe thead th {\n        text-align: right;\n    }\n</style>\n<table border=\"1\" class=\"dataframe\">\n  <thead>\n    <tr style=\"text-align: right;\">\n      <th></th>\n      <th>driverStandingsId</th>\n      <th>raceId</th>\n      <th>driverId</th>\n      <th>points</th>\n      <th>position</th>\n      <th>positionText</th>\n      <th>wins</th>\n      <th>year</th>\n      <th>round</th>\n      <th>circuitId</th>\n      <th>name</th>\n      <th>driverRef</th>\n      <th>forename</th>\n      <th>surname</th>\n    </tr>\n  </thead>\n  <tbody>\n    <tr>\n      <th>60</th>\n      <td>63955</td>\n      <td>345</td>\n      <td>1</td>\n      <td>127.0</td>\n      <td>1</td>\n      <td>1</td>\n      <td>2</td>\n      <td>2010</td>\n      <td>9</td>\n      <td>12</td>\n      <td>European Grand Prix</td>\n      <td>hamilton</td>\n      <td>Lewis</td>\n      <td>Hamilton</td>\n    </tr>\n  </tbody>\n</table>\n</div>",
                        "text/plain": "    driverStandingsId  raceId  driverId  points  position positionText  wins  \\\n60              63955     345         1   127.0         1            1     2   \n\n    year  round  circuitId                 name driverRef forename   surname  \n60  2010      9         12  European Grand Prix  hamilton    Lewis  Hamilton  "
                    },
                    "execution_count": 85,
                    "metadata": {},
                    "output_type": "execute_result"
                }
            ],
            "source": "df_sub_data2[(df_sub_data2.position == 1) & (df_sub_data2.raceId == 345)]"
        },
        {
            "cell_type": "code",
            "execution_count": 86,
            "metadata": {},
            "outputs": [
                {
                    "data": {
                        "text/html": "<div>\n<style scoped>\n    .dataframe tbody tr th:only-of-type {\n        vertical-align: middle;\n    }\n\n    .dataframe tbody tr th {\n        vertical-align: top;\n    }\n\n    .dataframe thead th {\n        text-align: right;\n    }\n</style>\n<table border=\"1\" class=\"dataframe\">\n  <thead>\n    <tr style=\"text-align: right;\">\n      <th></th>\n      <th>raceId</th>\n      <th>year</th>\n      <th>round</th>\n      <th>circuitId</th>\n      <th>name</th>\n    </tr>\n  </thead>\n  <tbody>\n    <tr>\n      <th>344</th>\n      <td>345</td>\n      <td>2010</td>\n      <td>9</td>\n      <td>12</td>\n      <td>European Grand Prix</td>\n    </tr>\n  </tbody>\n</table>\n</div>",
                        "text/plain": "     raceId  year  round  circuitId                 name\n344     345  2010      9         12  European Grand Prix"
                    },
                    "execution_count": 86,
                    "metadata": {},
                    "output_type": "execute_result"
                }
            ],
            "source": "df_races[df_races.raceId == 345]"
        },
        {
            "cell_type": "code",
            "execution_count": 91,
            "metadata": {},
            "outputs": [
                {
                    "data": {
                        "text/html": "<div>\n<style scoped>\n    .dataframe tbody tr th:only-of-type {\n        vertical-align: middle;\n    }\n\n    .dataframe tbody tr th {\n        vertical-align: top;\n    }\n\n    .dataframe thead th {\n        text-align: right;\n    }\n</style>\n<table border=\"1\" class=\"dataframe\">\n  <thead>\n    <tr style=\"text-align: right;\">\n      <th></th>\n      <th>driverStandingsId</th>\n      <th>raceId</th>\n      <th>driverId</th>\n      <th>points</th>\n      <th>position</th>\n      <th>positionText</th>\n      <th>wins</th>\n    </tr>\n  </thead>\n  <tbody>\n    <tr>\n      <th>0</th>\n      <td>1</td>\n      <td>18</td>\n      <td>1</td>\n      <td>10.0</td>\n      <td>1</td>\n      <td>1</td>\n      <td>1</td>\n    </tr>\n    <tr>\n      <th>1</th>\n      <td>2</td>\n      <td>18</td>\n      <td>2</td>\n      <td>8.0</td>\n      <td>2</td>\n      <td>2</td>\n      <td>0</td>\n    </tr>\n    <tr>\n      <th>2</th>\n      <td>3</td>\n      <td>18</td>\n      <td>3</td>\n      <td>6.0</td>\n      <td>3</td>\n      <td>3</td>\n      <td>0</td>\n    </tr>\n    <tr>\n      <th>3</th>\n      <td>4</td>\n      <td>18</td>\n      <td>4</td>\n      <td>5.0</td>\n      <td>4</td>\n      <td>4</td>\n      <td>0</td>\n    </tr>\n    <tr>\n      <th>4</th>\n      <td>5</td>\n      <td>18</td>\n      <td>5</td>\n      <td>4.0</td>\n      <td>5</td>\n      <td>5</td>\n      <td>0</td>\n    </tr>\n    <tr>\n      <th>...</th>\n      <td>...</td>\n      <td>...</td>\n      <td>...</td>\n      <td>...</td>\n      <td>...</td>\n      <td>...</td>\n      <td>...</td>\n    </tr>\n    <tr>\n      <th>33389</th>\n      <td>70776</td>\n      <td>1074</td>\n      <td>840</td>\n      <td>0.0</td>\n      <td>16</td>\n      <td>-</td>\n      <td>0</td>\n    </tr>\n    <tr>\n      <th>33390</th>\n      <td>70777</td>\n      <td>1074</td>\n      <td>852</td>\n      <td>0.0</td>\n      <td>17</td>\n      <td>-</td>\n      <td>0</td>\n    </tr>\n    <tr>\n      <th>33391</th>\n      <td>70778</td>\n      <td>1074</td>\n      <td>830</td>\n      <td>0.0</td>\n      <td>18</td>\n      <td>-</td>\n      <td>0</td>\n    </tr>\n    <tr>\n      <th>33392</th>\n      <td>70779</td>\n      <td>1074</td>\n      <td>20</td>\n      <td>0.0</td>\n      <td>19</td>\n      <td>-</td>\n      <td>0</td>\n    </tr>\n    <tr>\n      <th>33393</th>\n      <td>70780</td>\n      <td>1074</td>\n      <td>855</td>\n      <td>0.0</td>\n      <td>20</td>\n      <td>-</td>\n      <td>0</td>\n    </tr>\n  </tbody>\n</table>\n<p>33394 rows \u00d7 7 columns</p>\n</div>",
                        "text/plain": "       driverStandingsId  raceId  driverId  points  position positionText  \\\n0                      1      18         1    10.0         1            1   \n1                      2      18         2     8.0         2            2   \n2                      3      18         3     6.0         3            3   \n3                      4      18         4     5.0         4            4   \n4                      5      18         5     4.0         5            5   \n...                  ...     ...       ...     ...       ...          ...   \n33389              70776    1074       840     0.0        16            -   \n33390              70777    1074       852     0.0        17            -   \n33391              70778    1074       830     0.0        18            -   \n33392              70779    1074        20     0.0        19            -   \n33393              70780    1074       855     0.0        20            -   \n\n       wins  \n0         1  \n1         0  \n2         0  \n3         0  \n4         0  \n...     ...  \n33389     0  \n33390     0  \n33391     0  \n33392     0  \n33393     0  \n\n[33394 rows x 7 columns]"
                    },
                    "execution_count": 91,
                    "metadata": {},
                    "output_type": "execute_result"
                }
            ],
            "source": "driv_stand"
        },
        {
            "cell_type": "code",
            "execution_count": 90,
            "metadata": {
                "scrolled": true
            },
            "outputs": [
                {
                    "data": {
                        "text/html": "<div>\n<style scoped>\n    .dataframe tbody tr th:only-of-type {\n        vertical-align: middle;\n    }\n\n    .dataframe tbody tr th {\n        vertical-align: top;\n    }\n\n    .dataframe thead th {\n        text-align: right;\n    }\n</style>\n<table border=\"1\" class=\"dataframe\">\n  <thead>\n    <tr style=\"text-align: right;\">\n      <th></th>\n      <th>driverStandingsId</th>\n      <th>raceId</th>\n      <th>driverId</th>\n      <th>points</th>\n      <th>position</th>\n      <th>positionText</th>\n      <th>wins</th>\n    </tr>\n  </thead>\n  <tbody>\n    <tr>\n      <th>28130</th>\n      <td>63953</td>\n      <td>345</td>\n      <td>4</td>\n      <td>98.0</td>\n      <td>5</td>\n      <td>5</td>\n      <td>1</td>\n    </tr>\n    <tr>\n      <th>28131</th>\n      <td>63954</td>\n      <td>345</td>\n      <td>13</td>\n      <td>67.0</td>\n      <td>8</td>\n      <td>8</td>\n      <td>0</td>\n    </tr>\n    <tr>\n      <th>28132</th>\n      <td>63955</td>\n      <td>345</td>\n      <td>1</td>\n      <td>127.0</td>\n      <td>1</td>\n      <td>1</td>\n      <td>2</td>\n    </tr>\n    <tr>\n      <th>28133</th>\n      <td>63956</td>\n      <td>345</td>\n      <td>20</td>\n      <td>115.0</td>\n      <td>3</td>\n      <td>3</td>\n      <td>2</td>\n    </tr>\n    <tr>\n      <th>28134</th>\n      <td>63957</td>\n      <td>345</td>\n      <td>3</td>\n      <td>75.0</td>\n      <td>7</td>\n      <td>7</td>\n      <td>0</td>\n    </tr>\n    <tr>\n      <th>28135</th>\n      <td>63958</td>\n      <td>345</td>\n      <td>30</td>\n      <td>34.0</td>\n      <td>9</td>\n      <td>9</td>\n      <td>0</td>\n    </tr>\n    <tr>\n      <th>28136</th>\n      <td>63959</td>\n      <td>345</td>\n      <td>18</td>\n      <td>121.0</td>\n      <td>2</td>\n      <td>2</td>\n      <td>2</td>\n    </tr>\n    <tr>\n      <th>28137</th>\n      <td>63960</td>\n      <td>345</td>\n      <td>17</td>\n      <td>103.0</td>\n      <td>4</td>\n      <td>4</td>\n      <td>2</td>\n    </tr>\n    <tr>\n      <th>28138</th>\n      <td>63961</td>\n      <td>345</td>\n      <td>24</td>\n      <td>12.0</td>\n      <td>12</td>\n      <td>12</td>\n      <td>0</td>\n    </tr>\n    <tr>\n      <th>28139</th>\n      <td>63962</td>\n      <td>345</td>\n      <td>22</td>\n      <td>19.0</td>\n      <td>11</td>\n      <td>11</td>\n      <td>0</td>\n    </tr>\n    <tr>\n      <th>28140</th>\n      <td>63963</td>\n      <td>345</td>\n      <td>9</td>\n      <td>83.0</td>\n      <td>6</td>\n      <td>6</td>\n      <td>0</td>\n    </tr>\n    <tr>\n      <th>28141</th>\n      <td>63964</td>\n      <td>345</td>\n      <td>16</td>\n      <td>31.0</td>\n      <td>10</td>\n      <td>10</td>\n      <td>0</td>\n    </tr>\n    <tr>\n      <th>28142</th>\n      <td>63965</td>\n      <td>345</td>\n      <td>153</td>\n      <td>3.0</td>\n      <td>16</td>\n      <td>16</td>\n      <td>0</td>\n    </tr>\n    <tr>\n      <th>28143</th>\n      <td>63966</td>\n      <td>345</td>\n      <td>807</td>\n      <td>1.0</td>\n      <td>17</td>\n      <td>17</td>\n      <td>0</td>\n    </tr>\n    <tr>\n      <th>28144</th>\n      <td>63967</td>\n      <td>345</td>\n      <td>5</td>\n      <td>0.0</td>\n      <td>19</td>\n      <td>19</td>\n      <td>0</td>\n    </tr>\n    <tr>\n      <th>28145</th>\n      <td>63968</td>\n      <td>345</td>\n      <td>67</td>\n      <td>7.0</td>\n      <td>14</td>\n      <td>14</td>\n      <td>0</td>\n    </tr>\n    <tr>\n      <th>28146</th>\n      <td>63969</td>\n      <td>345</td>\n      <td>15</td>\n      <td>0.0</td>\n      <td>22</td>\n      <td>22</td>\n      <td>0</td>\n    </tr>\n    <tr>\n      <th>28147</th>\n      <td>63970</td>\n      <td>345</td>\n      <td>37</td>\n      <td>0.0</td>\n      <td>18</td>\n      <td>18</td>\n      <td>0</td>\n    </tr>\n    <tr>\n      <th>28148</th>\n      <td>63971</td>\n      <td>345</td>\n      <td>811</td>\n      <td>0.0</td>\n      <td>23</td>\n      <td>23</td>\n      <td>0</td>\n    </tr>\n    <tr>\n      <th>28149</th>\n      <td>63972</td>\n      <td>345</td>\n      <td>10</td>\n      <td>0.0</td>\n      <td>24</td>\n      <td>24</td>\n      <td>0</td>\n    </tr>\n    <tr>\n      <th>28150</th>\n      <td>63973</td>\n      <td>345</td>\n      <td>808</td>\n      <td>6.0</td>\n      <td>15</td>\n      <td>15</td>\n      <td>0</td>\n    </tr>\n    <tr>\n      <th>28151</th>\n      <td>63974</td>\n      <td>345</td>\n      <td>155</td>\n      <td>7.0</td>\n      <td>13</td>\n      <td>13</td>\n      <td>0</td>\n    </tr>\n    <tr>\n      <th>28152</th>\n      <td>63975</td>\n      <td>345</td>\n      <td>810</td>\n      <td>0.0</td>\n      <td>21</td>\n      <td>21</td>\n      <td>0</td>\n    </tr>\n    <tr>\n      <th>28153</th>\n      <td>63976</td>\n      <td>345</td>\n      <td>812</td>\n      <td>0.0</td>\n      <td>20</td>\n      <td>20</td>\n      <td>0</td>\n    </tr>\n  </tbody>\n</table>\n</div>",
                        "text/plain": "       driverStandingsId  raceId  driverId  points  position positionText  \\\n28130              63953     345         4    98.0         5            5   \n28131              63954     345        13    67.0         8            8   \n28132              63955     345         1   127.0         1            1   \n28133              63956     345        20   115.0         3            3   \n28134              63957     345         3    75.0         7            7   \n28135              63958     345        30    34.0         9            9   \n28136              63959     345        18   121.0         2            2   \n28137              63960     345        17   103.0         4            4   \n28138              63961     345        24    12.0        12           12   \n28139              63962     345        22    19.0        11           11   \n28140              63963     345         9    83.0         6            6   \n28141              63964     345        16    31.0        10           10   \n28142              63965     345       153     3.0        16           16   \n28143              63966     345       807     1.0        17           17   \n28144              63967     345         5     0.0        19           19   \n28145              63968     345        67     7.0        14           14   \n28146              63969     345        15     0.0        22           22   \n28147              63970     345        37     0.0        18           18   \n28148              63971     345       811     0.0        23           23   \n28149              63972     345        10     0.0        24           24   \n28150              63973     345       808     6.0        15           15   \n28151              63974     345       155     7.0        13           13   \n28152              63975     345       810     0.0        21           21   \n28153              63976     345       812     0.0        20           20   \n\n       wins  \n28130     1  \n28131     0  \n28132     2  \n28133     2  \n28134     0  \n28135     0  \n28136     2  \n28137     2  \n28138     0  \n28139     0  \n28140     0  \n28141     0  \n28142     0  \n28143     0  \n28144     0  \n28145     0  \n28146     0  \n28147     0  \n28148     0  \n28149     0  \n28150     0  \n28151     0  \n28152     0  \n28153     0  "
                    },
                    "execution_count": 90,
                    "metadata": {},
                    "output_type": "execute_result"
                }
            ],
            "source": "driv_stand[driv_stand.raceId == 345]"
        },
        {
            "cell_type": "code",
            "execution_count": 94,
            "metadata": {},
            "outputs": [
                {
                    "data": {
                        "text/html": "<div>\n<style scoped>\n    .dataframe tbody tr th:only-of-type {\n        vertical-align: middle;\n    }\n\n    .dataframe tbody tr th {\n        vertical-align: top;\n    }\n\n    .dataframe thead th {\n        text-align: right;\n    }\n</style>\n<table border=\"1\" class=\"dataframe\">\n  <thead>\n    <tr style=\"text-align: right;\">\n      <th></th>\n      <th>driverId</th>\n      <th>driverRef</th>\n      <th>forename</th>\n      <th>surname</th>\n    </tr>\n  </thead>\n  <tbody>\n    <tr>\n      <th>19</th>\n      <td>20</td>\n      <td>vettel</td>\n      <td>Sebastian</td>\n      <td>Vettel</td>\n    </tr>\n  </tbody>\n</table>\n</div>",
                        "text/plain": "    driverId driverRef   forename surname\n19        20    vettel  Sebastian  Vettel"
                    },
                    "execution_count": 94,
                    "metadata": {},
                    "output_type": "execute_result"
                }
            ],
            "source": "df_drivers[df_drivers.driverId == 20]"
        },
        {
            "cell_type": "markdown",
            "metadata": {},
            "source": "Exporting the dataframe to a CSV file"
        },
        {
            "cell_type": "code",
            "execution_count": 15,
            "metadata": {},
            "outputs": [
                {
                    "data": {
                        "text/plain": "{'file_name': 'MUST_WIN_CHAMPIONSHIP_DB.csv',\n 'message': 'File saved to project storage.',\n 'bucket_name': 'f1project-donotdelete-pr-k1g9ydjrtxlhpr',\n 'asset_id': 'fe77cf0b-a6b8-472f-9a65-c2925c140d4b'}"
                    },
                    "execution_count": 15,
                    "metadata": {},
                    "output_type": "execute_result"
                }
            ],
            "source": "project.save_data(data=df_sub_data2.to_csv(index=False),file_name='MUST_WIN_CHAMPIONSHIP_DB.csv',overwrite=True)"
        },
        {
            "cell_type": "code",
            "execution_count": 16,
            "metadata": {},
            "outputs": [
                {
                    "name": "stdout",
                    "output_type": "stream",
                    "text": "Collecting sqlalchemy==1.3.9\n  Downloading SQLAlchemy-1.3.9.tar.gz (6.0 MB)\n\u001b[K     |\u2588\u2588\u2588\u2588\u2588\u2588\u2588\u2588\u2588\u2588\u2588\u2588\u2588\u2588\u2588\u2588\u2588\u2588\u2588\u2588\u2588\u2588\u2588\u2588\u2588\u2588\u2588\u2588\u2588\u2588\u2588\u2588| 6.0 MB 21.1 MB/s eta 0:00:01\n\u001b[?25hBuilding wheels for collected packages: sqlalchemy\n  Building wheel for sqlalchemy (setup.py) ... \u001b[?25ldone\n\u001b[?25h  Created wheel for sqlalchemy: filename=SQLAlchemy-1.3.9-cp38-cp38-linux_x86_64.whl size=1209508 sha256=fc309b2d15500c9ade8438e5526f7949faef13a2c9d137e49c2261de3288e8d9\n  Stored in directory: /tmp/wsuser/.cache/pip/wheels/cb/43/46/fa638f2422554332b7865d600275b24568bf60e76104a94bb4\nSuccessfully built sqlalchemy\nInstalling collected packages: sqlalchemy\n  Attempting uninstall: sqlalchemy\n    Found existing installation: SQLAlchemy 1.4.22\n    Uninstalling SQLAlchemy-1.4.22:\n      Successfully uninstalled SQLAlchemy-1.4.22\nSuccessfully installed sqlalchemy-1.3.9\nRequirement already satisfied: ibm_db_sa in /opt/conda/envs/Python-3.8-main/lib/python3.8/site-packages (0.3.7)\nRequirement already satisfied: ibm-db>=2.0.0 in /opt/conda/envs/Python-3.8-main/lib/python3.8/site-packages (from ibm_db_sa) (3.0.4)\nRequirement already satisfied: sqlalchemy>=0.7.3 in /opt/conda/envs/Python-3.8-main/lib/python3.8/site-packages (from ibm_db_sa) (1.3.9)\nCollecting ipython-sql\n  Downloading ipython_sql-0.4.0-py3-none-any.whl (19 kB)\nCollecting prettytable<1\n  Downloading prettytable-0.7.2.zip (28 kB)\nRequirement already satisfied: ipython>=1.0 in /opt/conda/envs/Python-3.8-main/lib/python3.8/site-packages (from ipython-sql) (7.27.0)\nRequirement already satisfied: ipython-genutils>=0.1.0 in /opt/conda/envs/Python-3.8-main/lib/python3.8/site-packages (from ipython-sql) (0.2.0)\nRequirement already satisfied: sqlalchemy>=0.6.7 in /opt/conda/envs/Python-3.8-main/lib/python3.8/site-packages (from ipython-sql) (1.3.9)\nRequirement already satisfied: six in /opt/conda/envs/Python-3.8-main/lib/python3.8/site-packages (from ipython-sql) (1.15.0)\nCollecting sqlparse\n  Downloading sqlparse-0.4.2-py3-none-any.whl (42 kB)\n\u001b[K     |\u2588\u2588\u2588\u2588\u2588\u2588\u2588\u2588\u2588\u2588\u2588\u2588\u2588\u2588\u2588\u2588\u2588\u2588\u2588\u2588\u2588\u2588\u2588\u2588\u2588\u2588\u2588\u2588\u2588\u2588\u2588\u2588| 42 kB 2.1 MB/s  eta 0:00:01\n\u001b[?25hRequirement already satisfied: jedi>=0.16 in /opt/conda/envs/Python-3.8-main/lib/python3.8/site-packages (from ipython>=1.0->ipython-sql) (0.17.2)\nRequirement already satisfied: pygments in /opt/conda/envs/Python-3.8-main/lib/python3.8/site-packages (from ipython>=1.0->ipython-sql) (2.9.0)\nRequirement already satisfied: traitlets>=4.2 in /opt/conda/envs/Python-3.8-main/lib/python3.8/site-packages (from ipython>=1.0->ipython-sql) (5.0.5)\nRequirement already satisfied: decorator in /opt/conda/envs/Python-3.8-main/lib/python3.8/site-packages (from ipython>=1.0->ipython-sql) (5.0.9)\nRequirement already satisfied: matplotlib-inline in /opt/conda/envs/Python-3.8-main/lib/python3.8/site-packages (from ipython>=1.0->ipython-sql) (0.1.2)\nRequirement already satisfied: backcall in /opt/conda/envs/Python-3.8-main/lib/python3.8/site-packages (from ipython>=1.0->ipython-sql) (0.2.0)\nRequirement already satisfied: setuptools>=18.5 in /opt/conda/envs/Python-3.8-main/lib/python3.8/site-packages (from ipython>=1.0->ipython-sql) (52.0.0.post20211006)\nRequirement already satisfied: pexpect>4.3 in /opt/conda/envs/Python-3.8-main/lib/python3.8/site-packages (from ipython>=1.0->ipython-sql) (4.8.0)\nRequirement already satisfied: pickleshare in /opt/conda/envs/Python-3.8-main/lib/python3.8/site-packages (from ipython>=1.0->ipython-sql) (0.7.5)\nRequirement already satisfied: prompt-toolkit!=3.0.0,!=3.0.1,<3.1.0,>=2.0.0 in /opt/conda/envs/Python-3.8-main/lib/python3.8/site-packages (from ipython>=1.0->ipython-sql) (3.0.20)\nRequirement already satisfied: parso<0.8.0,>=0.7.0 in /opt/conda/envs/Python-3.8-main/lib/python3.8/site-packages (from jedi>=0.16->ipython>=1.0->ipython-sql) (0.7.0)\nRequirement already satisfied: ptyprocess>=0.5 in /opt/conda/envs/Python-3.8-main/lib/python3.8/site-packages (from pexpect>4.3->ipython>=1.0->ipython-sql) (0.7.0)\nRequirement already satisfied: wcwidth in /opt/conda/envs/Python-3.8-main/lib/python3.8/site-packages (from prompt-toolkit!=3.0.0,!=3.0.1,<3.1.0,>=2.0.0->ipython>=1.0->ipython-sql) (0.2.5)\nBuilding wheels for collected packages: prettytable\n  Building wheel for prettytable (setup.py) ... \u001b[?25ldone\n\u001b[?25h  Created wheel for prettytable: filename=prettytable-0.7.2-py3-none-any.whl size=13700 sha256=898b2756dc7e2214214984453d62dcd67118784dd56163c30d61a046e71550af\n  Stored in directory: /tmp/wsuser/.cache/pip/wheels/48/6d/77/9517cb933af254f51a446f1a5ec9c2be3e45f17384940bce68\nSuccessfully built prettytable\nInstalling collected packages: sqlparse, prettytable, ipython-sql\nSuccessfully installed ipython-sql-0.4.0 prettytable-0.7.2 sqlparse-0.4.2\n"
                }
            ],
            "source": "!pip install sqlalchemy==1.3.9\n!pip install ibm_db_sa\n!pip install ipython-sql"
        },
        {
            "cell_type": "code",
            "execution_count": 17,
            "metadata": {},
            "outputs": [],
            "source": "%load_ext sql"
        },
        {
            "cell_type": "code",
            "execution_count": null,
            "metadata": {},
            "outputs": [],
            "source": "%sql ibm_db_sa://wsk88371:BKnfJ7eoxGXJ9D1m@764264db-9824-4b7c-82df-40d1b13897c2.bs2io90l08kqb1od8lcg.databases.appdomain.cloud:32536/bludb"
        },
        {
            "cell_type": "code",
            "execution_count": null,
            "metadata": {},
            "outputs": [],
            "source": ""
        }
    ],
    "metadata": {
        "kernelspec": {
            "display_name": "Python 3.8",
            "language": "python",
            "name": "python3"
        },
        "language_info": {
            "codemirror_mode": {
                "name": "ipython",
                "version": 3
            },
            "file_extension": ".py",
            "mimetype": "text/x-python",
            "name": "python",
            "nbconvert_exporter": "python",
            "pygments_lexer": "ipython3",
            "version": "3.8.12"
        }
    },
    "nbformat": 4,
    "nbformat_minor": 1
}