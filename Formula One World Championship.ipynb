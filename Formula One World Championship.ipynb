{
    "cells": [
        {
            "cell_type": "markdown",
            "metadata": {},
            "source": "# Is there a \"must win\" circuit in the championship? Either a particular Grand Prix or the N-th circuit of the championship"
        },
        {
            "cell_type": "markdown",
            "metadata": {},
            "source": "In order to answer this question, we need to lookup at the winner of the last 12 championships and if there is a match between the champion and a circuit"
        },
        {
            "cell_type": "code",
            "execution_count": 1,
            "metadata": {},
            "outputs": [
                {
                    "data": {
                        "text/html": "<div>\n<style scoped>\n    .dataframe tbody tr th:only-of-type {\n        vertical-align: middle;\n    }\n\n    .dataframe tbody tr th {\n        vertical-align: top;\n    }\n\n    .dataframe thead th {\n        text-align: right;\n    }\n</style>\n<table border=\"1\" class=\"dataframe\">\n  <thead>\n    <tr style=\"text-align: right;\">\n      <th></th>\n      <th>circuitId</th>\n      <th>circuitRef</th>\n      <th>name</th>\n      <th>location</th>\n      <th>country</th>\n      <th>lat</th>\n      <th>lng</th>\n      <th>alt</th>\n      <th>url</th>\n    </tr>\n  </thead>\n  <tbody>\n    <tr>\n      <th>0</th>\n      <td>1</td>\n      <td>albert_park</td>\n      <td>Albert Park Grand Prix Circuit</td>\n      <td>Melbourne</td>\n      <td>Australia</td>\n      <td>-37.84970</td>\n      <td>144.96800</td>\n      <td>10</td>\n      <td>http://en.wikipedia.org/wiki/Melbourne_Grand_P...</td>\n    </tr>\n    <tr>\n      <th>1</th>\n      <td>2</td>\n      <td>sepang</td>\n      <td>Sepang International Circuit</td>\n      <td>Kuala Lumpur</td>\n      <td>Malaysia</td>\n      <td>2.76083</td>\n      <td>101.73800</td>\n      <td>18</td>\n      <td>http://en.wikipedia.org/wiki/Sepang_Internatio...</td>\n    </tr>\n    <tr>\n      <th>2</th>\n      <td>3</td>\n      <td>bahrain</td>\n      <td>Bahrain International Circuit</td>\n      <td>Sakhir</td>\n      <td>Bahrain</td>\n      <td>26.03250</td>\n      <td>50.51060</td>\n      <td>7</td>\n      <td>http://en.wikipedia.org/wiki/Bahrain_Internati...</td>\n    </tr>\n    <tr>\n      <th>3</th>\n      <td>4</td>\n      <td>catalunya</td>\n      <td>Circuit de Barcelona-Catalunya</td>\n      <td>Montmel\u00f3</td>\n      <td>Spain</td>\n      <td>41.57000</td>\n      <td>2.26111</td>\n      <td>109</td>\n      <td>http://en.wikipedia.org/wiki/Circuit_de_Barcel...</td>\n    </tr>\n    <tr>\n      <th>4</th>\n      <td>5</td>\n      <td>istanbul</td>\n      <td>Istanbul Park</td>\n      <td>Istanbul</td>\n      <td>Turkey</td>\n      <td>40.95170</td>\n      <td>29.40500</td>\n      <td>130</td>\n      <td>http://en.wikipedia.org/wiki/Istanbul_Park</td>\n    </tr>\n  </tbody>\n</table>\n</div>",
                        "text/plain": "   circuitId   circuitRef                            name      location  \\\n0          1  albert_park  Albert Park Grand Prix Circuit     Melbourne   \n1          2       sepang    Sepang International Circuit  Kuala Lumpur   \n2          3      bahrain   Bahrain International Circuit        Sakhir   \n3          4    catalunya  Circuit de Barcelona-Catalunya      Montmel\u00f3   \n4          5     istanbul                   Istanbul Park      Istanbul   \n\n     country       lat        lng  alt  \\\n0  Australia -37.84970  144.96800   10   \n1   Malaysia   2.76083  101.73800   18   \n2    Bahrain  26.03250   50.51060    7   \n3      Spain  41.57000    2.26111  109   \n4     Turkey  40.95170   29.40500  130   \n\n                                                 url  \n0  http://en.wikipedia.org/wiki/Melbourne_Grand_P...  \n1  http://en.wikipedia.org/wiki/Sepang_Internatio...  \n2  http://en.wikipedia.org/wiki/Bahrain_Internati...  \n3  http://en.wikipedia.org/wiki/Circuit_de_Barcel...  \n4         http://en.wikipedia.org/wiki/Istanbul_Park  "
                    },
                    "execution_count": 1,
                    "metadata": {},
                    "output_type": "execute_result"
                }
            ],
            "source": "# The code was removed by Watson Studio for sharing."
        },
        {
            "cell_type": "code",
            "execution_count": 4,
            "metadata": {},
            "outputs": [],
            "source": "df_data = df_data_1.drop(['lat', 'lng', 'url'], axis=1)"
        },
        {
            "cell_type": "code",
            "execution_count": 6,
            "metadata": {},
            "outputs": [],
            "source": "df_circuits = df_data"
        },
        {
            "cell_type": "code",
            "execution_count": 7,
            "metadata": {},
            "outputs": [
                {
                    "data": {
                        "text/html": "<div>\n<style scoped>\n    .dataframe tbody tr th:only-of-type {\n        vertical-align: middle;\n    }\n\n    .dataframe tbody tr th {\n        vertical-align: top;\n    }\n\n    .dataframe thead th {\n        text-align: right;\n    }\n</style>\n<table border=\"1\" class=\"dataframe\">\n  <thead>\n    <tr style=\"text-align: right;\">\n      <th></th>\n      <th>driverStandingsId</th>\n      <th>raceId</th>\n      <th>driverId</th>\n      <th>points</th>\n      <th>position</th>\n      <th>positionText</th>\n      <th>wins</th>\n    </tr>\n  </thead>\n  <tbody>\n    <tr>\n      <th>0</th>\n      <td>1</td>\n      <td>18</td>\n      <td>1</td>\n      <td>10.0</td>\n      <td>1</td>\n      <td>1</td>\n      <td>1</td>\n    </tr>\n    <tr>\n      <th>1</th>\n      <td>2</td>\n      <td>18</td>\n      <td>2</td>\n      <td>8.0</td>\n      <td>2</td>\n      <td>2</td>\n      <td>0</td>\n    </tr>\n    <tr>\n      <th>2</th>\n      <td>3</td>\n      <td>18</td>\n      <td>3</td>\n      <td>6.0</td>\n      <td>3</td>\n      <td>3</td>\n      <td>0</td>\n    </tr>\n    <tr>\n      <th>3</th>\n      <td>4</td>\n      <td>18</td>\n      <td>4</td>\n      <td>5.0</td>\n      <td>4</td>\n      <td>4</td>\n      <td>0</td>\n    </tr>\n    <tr>\n      <th>4</th>\n      <td>5</td>\n      <td>18</td>\n      <td>5</td>\n      <td>4.0</td>\n      <td>5</td>\n      <td>5</td>\n      <td>0</td>\n    </tr>\n  </tbody>\n</table>\n</div>",
                        "text/plain": "   driverStandingsId  raceId  driverId  points  position positionText  wins\n0                  1      18         1    10.0         1            1     1\n1                  2      18         2     8.0         2            2     0\n2                  3      18         3     6.0         3            3     0\n3                  4      18         4     5.0         4            4     0\n4                  5      18         5     4.0         5            5     0"
                    },
                    "execution_count": 7,
                    "metadata": {},
                    "output_type": "execute_result"
                }
            ],
            "source": "\nbody = client_ff2293c1f18a456e81c3942306f3ba02.get_object(Bucket='f1project-donotdelete-pr-k1g9ydjrtxlhpr',Key='driver_standings.csv')['Body']\n# add missing __iter__ method, so pandas accepts body as file-like object\nif not hasattr(body, \"__iter__\"): body.__iter__ = types.MethodType( __iter__, body )\n\ndf_data_2 = pd.read_csv(body)\ndf_data_2.head()\n"
        },
        {
            "cell_type": "code",
            "execution_count": 8,
            "metadata": {
                "scrolled": true
            },
            "outputs": [
                {
                    "data": {
                        "text/html": "<div>\n<style scoped>\n    .dataframe tbody tr th:only-of-type {\n        vertical-align: middle;\n    }\n\n    .dataframe tbody tr th {\n        vertical-align: top;\n    }\n\n    .dataframe thead th {\n        text-align: right;\n    }\n</style>\n<table border=\"1\" class=\"dataframe\">\n  <thead>\n    <tr style=\"text-align: right;\">\n      <th></th>\n      <th>driverId</th>\n      <th>driverRef</th>\n      <th>number</th>\n      <th>code</th>\n      <th>forename</th>\n      <th>surname</th>\n      <th>dob</th>\n      <th>nationality</th>\n      <th>url</th>\n    </tr>\n  </thead>\n  <tbody>\n    <tr>\n      <th>0</th>\n      <td>1</td>\n      <td>hamilton</td>\n      <td>44</td>\n      <td>HAM</td>\n      <td>Lewis</td>\n      <td>Hamilton</td>\n      <td>1985-01-07</td>\n      <td>British</td>\n      <td>http://en.wikipedia.org/wiki/Lewis_Hamilton</td>\n    </tr>\n    <tr>\n      <th>1</th>\n      <td>2</td>\n      <td>heidfeld</td>\n      <td>\\N</td>\n      <td>HEI</td>\n      <td>Nick</td>\n      <td>Heidfeld</td>\n      <td>1977-05-10</td>\n      <td>German</td>\n      <td>http://en.wikipedia.org/wiki/Nick_Heidfeld</td>\n    </tr>\n    <tr>\n      <th>2</th>\n      <td>3</td>\n      <td>rosberg</td>\n      <td>6</td>\n      <td>ROS</td>\n      <td>Nico</td>\n      <td>Rosberg</td>\n      <td>1985-06-27</td>\n      <td>German</td>\n      <td>http://en.wikipedia.org/wiki/Nico_Rosberg</td>\n    </tr>\n    <tr>\n      <th>3</th>\n      <td>4</td>\n      <td>alonso</td>\n      <td>14</td>\n      <td>ALO</td>\n      <td>Fernando</td>\n      <td>Alonso</td>\n      <td>1981-07-29</td>\n      <td>Spanish</td>\n      <td>http://en.wikipedia.org/wiki/Fernando_Alonso</td>\n    </tr>\n    <tr>\n      <th>4</th>\n      <td>5</td>\n      <td>kovalainen</td>\n      <td>\\N</td>\n      <td>KOV</td>\n      <td>Heikki</td>\n      <td>Kovalainen</td>\n      <td>1981-10-19</td>\n      <td>Finnish</td>\n      <td>http://en.wikipedia.org/wiki/Heikki_Kovalainen</td>\n    </tr>\n  </tbody>\n</table>\n</div>",
                        "text/plain": "   driverId   driverRef number code  forename     surname         dob  \\\n0         1    hamilton     44  HAM     Lewis    Hamilton  1985-01-07   \n1         2    heidfeld     \\N  HEI      Nick    Heidfeld  1977-05-10   \n2         3     rosberg      6  ROS      Nico     Rosberg  1985-06-27   \n3         4      alonso     14  ALO  Fernando      Alonso  1981-07-29   \n4         5  kovalainen     \\N  KOV    Heikki  Kovalainen  1981-10-19   \n\n  nationality                                             url  \n0     British     http://en.wikipedia.org/wiki/Lewis_Hamilton  \n1      German      http://en.wikipedia.org/wiki/Nick_Heidfeld  \n2      German       http://en.wikipedia.org/wiki/Nico_Rosberg  \n3     Spanish    http://en.wikipedia.org/wiki/Fernando_Alonso  \n4     Finnish  http://en.wikipedia.org/wiki/Heikki_Kovalainen  "
                    },
                    "execution_count": 8,
                    "metadata": {},
                    "output_type": "execute_result"
                }
            ],
            "source": "\nbody = client_ff2293c1f18a456e81c3942306f3ba02.get_object(Bucket='f1project-donotdelete-pr-k1g9ydjrtxlhpr',Key='drivers.csv')['Body']\ndf_data_3 = pd.read_csv(body)\ndf_data_3.head()\n"
        },
        {
            "cell_type": "code",
            "execution_count": 13,
            "metadata": {},
            "outputs": [
                {
                    "data": {
                        "text/html": "<div>\n<style scoped>\n    .dataframe tbody tr th:only-of-type {\n        vertical-align: middle;\n    }\n\n    .dataframe tbody tr th {\n        vertical-align: top;\n    }\n\n    .dataframe thead th {\n        text-align: right;\n    }\n</style>\n<table border=\"1\" class=\"dataframe\">\n  <thead>\n    <tr style=\"text-align: right;\">\n      <th></th>\n      <th>driverId</th>\n      <th>driverRef</th>\n      <th>forename</th>\n      <th>surname</th>\n    </tr>\n  </thead>\n  <tbody>\n    <tr>\n      <th>0</th>\n      <td>1</td>\n      <td>hamilton</td>\n      <td>Lewis</td>\n      <td>Hamilton</td>\n    </tr>\n    <tr>\n      <th>1</th>\n      <td>2</td>\n      <td>heidfeld</td>\n      <td>Nick</td>\n      <td>Heidfeld</td>\n    </tr>\n    <tr>\n      <th>2</th>\n      <td>3</td>\n      <td>rosberg</td>\n      <td>Nico</td>\n      <td>Rosberg</td>\n    </tr>\n    <tr>\n      <th>3</th>\n      <td>4</td>\n      <td>alonso</td>\n      <td>Fernando</td>\n      <td>Alonso</td>\n    </tr>\n    <tr>\n      <th>4</th>\n      <td>5</td>\n      <td>kovalainen</td>\n      <td>Heikki</td>\n      <td>Kovalainen</td>\n    </tr>\n  </tbody>\n</table>\n</div>",
                        "text/plain": "   driverId   driverRef  forename     surname\n0         1    hamilton     Lewis    Hamilton\n1         2    heidfeld      Nick    Heidfeld\n2         3     rosberg      Nico     Rosberg\n3         4      alonso  Fernando      Alonso\n4         5  kovalainen    Heikki  Kovalainen"
                    },
                    "execution_count": 13,
                    "metadata": {},
                    "output_type": "execute_result"
                }
            ],
            "source": "df_drivers = df_data_3.drop(['dob','nationality','url','number','code'], axis=1)\ndf_drivers.head()"
        },
        {
            "cell_type": "code",
            "execution_count": 11,
            "metadata": {},
            "outputs": [
                {
                    "data": {
                        "text/html": "<div>\n<style scoped>\n    .dataframe tbody tr th:only-of-type {\n        vertical-align: middle;\n    }\n\n    .dataframe tbody tr th {\n        vertical-align: top;\n    }\n\n    .dataframe thead th {\n        text-align: right;\n    }\n</style>\n<table border=\"1\" class=\"dataframe\">\n  <thead>\n    <tr style=\"text-align: right;\">\n      <th></th>\n      <th>raceId</th>\n      <th>year</th>\n      <th>round</th>\n      <th>circuitId</th>\n      <th>name</th>\n      <th>date</th>\n      <th>time</th>\n      <th>url</th>\n    </tr>\n  </thead>\n  <tbody>\n    <tr>\n      <th>0</th>\n      <td>1</td>\n      <td>2009</td>\n      <td>1</td>\n      <td>1</td>\n      <td>Australian Grand Prix</td>\n      <td>2009-03-29</td>\n      <td>06:00:00</td>\n      <td>http://en.wikipedia.org/wiki/2009_Australian_G...</td>\n    </tr>\n    <tr>\n      <th>1</th>\n      <td>2</td>\n      <td>2009</td>\n      <td>2</td>\n      <td>2</td>\n      <td>Malaysian Grand Prix</td>\n      <td>2009-04-05</td>\n      <td>09:00:00</td>\n      <td>http://en.wikipedia.org/wiki/2009_Malaysian_Gr...</td>\n    </tr>\n    <tr>\n      <th>2</th>\n      <td>3</td>\n      <td>2009</td>\n      <td>3</td>\n      <td>17</td>\n      <td>Chinese Grand Prix</td>\n      <td>2009-04-19</td>\n      <td>07:00:00</td>\n      <td>http://en.wikipedia.org/wiki/2009_Chinese_Gran...</td>\n    </tr>\n    <tr>\n      <th>3</th>\n      <td>4</td>\n      <td>2009</td>\n      <td>4</td>\n      <td>3</td>\n      <td>Bahrain Grand Prix</td>\n      <td>2009-04-26</td>\n      <td>12:00:00</td>\n      <td>http://en.wikipedia.org/wiki/2009_Bahrain_Gran...</td>\n    </tr>\n    <tr>\n      <th>4</th>\n      <td>5</td>\n      <td>2009</td>\n      <td>5</td>\n      <td>4</td>\n      <td>Spanish Grand Prix</td>\n      <td>2009-05-10</td>\n      <td>12:00:00</td>\n      <td>http://en.wikipedia.org/wiki/2009_Spanish_Gran...</td>\n    </tr>\n  </tbody>\n</table>\n</div>",
                        "text/plain": "   raceId  year  round  circuitId                   name        date  \\\n0       1  2009      1          1  Australian Grand Prix  2009-03-29   \n1       2  2009      2          2   Malaysian Grand Prix  2009-04-05   \n2       3  2009      3         17     Chinese Grand Prix  2009-04-19   \n3       4  2009      4          3     Bahrain Grand Prix  2009-04-26   \n4       5  2009      5          4     Spanish Grand Prix  2009-05-10   \n\n       time                                                url  \n0  06:00:00  http://en.wikipedia.org/wiki/2009_Australian_G...  \n1  09:00:00  http://en.wikipedia.org/wiki/2009_Malaysian_Gr...  \n2  07:00:00  http://en.wikipedia.org/wiki/2009_Chinese_Gran...  \n3  12:00:00  http://en.wikipedia.org/wiki/2009_Bahrain_Gran...  \n4  12:00:00  http://en.wikipedia.org/wiki/2009_Spanish_Gran...  "
                    },
                    "execution_count": 11,
                    "metadata": {},
                    "output_type": "execute_result"
                }
            ],
            "source": "body = client_ff2293c1f18a456e81c3942306f3ba02.get_object(Bucket='f1project-donotdelete-pr-k1g9ydjrtxlhpr',Key='races.csv')['Body']\ndf_races = pd.read_csv(body)\ndf_races.head()\n"
        },
        {
            "cell_type": "code",
            "execution_count": 14,
            "metadata": {},
            "outputs": [],
            "source": "df_races = df_races.drop(['date','time','url'], axis=1)"
        },
        {
            "cell_type": "code",
            "execution_count": 15,
            "metadata": {},
            "outputs": [
                {
                    "data": {
                        "text/html": "<div>\n<style scoped>\n    .dataframe tbody tr th:only-of-type {\n        vertical-align: middle;\n    }\n\n    .dataframe tbody tr th {\n        vertical-align: top;\n    }\n\n    .dataframe thead th {\n        text-align: right;\n    }\n</style>\n<table border=\"1\" class=\"dataframe\">\n  <thead>\n    <tr style=\"text-align: right;\">\n      <th></th>\n      <th>raceId</th>\n      <th>year</th>\n      <th>round</th>\n      <th>circuitId</th>\n      <th>name</th>\n    </tr>\n  </thead>\n  <tbody>\n    <tr>\n      <th>0</th>\n      <td>1</td>\n      <td>2009</td>\n      <td>1</td>\n      <td>1</td>\n      <td>Australian Grand Prix</td>\n    </tr>\n    <tr>\n      <th>1</th>\n      <td>2</td>\n      <td>2009</td>\n      <td>2</td>\n      <td>2</td>\n      <td>Malaysian Grand Prix</td>\n    </tr>\n    <tr>\n      <th>2</th>\n      <td>3</td>\n      <td>2009</td>\n      <td>3</td>\n      <td>17</td>\n      <td>Chinese Grand Prix</td>\n    </tr>\n    <tr>\n      <th>3</th>\n      <td>4</td>\n      <td>2009</td>\n      <td>4</td>\n      <td>3</td>\n      <td>Bahrain Grand Prix</td>\n    </tr>\n    <tr>\n      <th>4</th>\n      <td>5</td>\n      <td>2009</td>\n      <td>5</td>\n      <td>4</td>\n      <td>Spanish Grand Prix</td>\n    </tr>\n  </tbody>\n</table>\n</div>",
                        "text/plain": "   raceId  year  round  circuitId                   name\n0       1  2009      1          1  Australian Grand Prix\n1       2  2009      2          2   Malaysian Grand Prix\n2       3  2009      3         17     Chinese Grand Prix\n3       4  2009      4          3     Bahrain Grand Prix\n4       5  2009      5          4     Spanish Grand Prix"
                    },
                    "execution_count": 15,
                    "metadata": {},
                    "output_type": "execute_result"
                }
            ],
            "source": "df_races.head()"
        },
        {
            "cell_type": "code",
            "execution_count": 20,
            "metadata": {},
            "outputs": [],
            "source": "driv_stand= df_data_2"
        },
        {
            "cell_type": "code",
            "execution_count": 21,
            "metadata": {},
            "outputs": [
                {
                    "data": {
                        "text/html": "<div>\n<style scoped>\n    .dataframe tbody tr th:only-of-type {\n        vertical-align: middle;\n    }\n\n    .dataframe tbody tr th {\n        vertical-align: top;\n    }\n\n    .dataframe thead th {\n        text-align: right;\n    }\n</style>\n<table border=\"1\" class=\"dataframe\">\n  <thead>\n    <tr style=\"text-align: right;\">\n      <th></th>\n      <th>driverStandingsId</th>\n      <th>raceId</th>\n      <th>driverId</th>\n      <th>points</th>\n      <th>position</th>\n      <th>positionText</th>\n      <th>wins</th>\n    </tr>\n  </thead>\n  <tbody>\n    <tr>\n      <th>0</th>\n      <td>1</td>\n      <td>18</td>\n      <td>1</td>\n      <td>10.0</td>\n      <td>1</td>\n      <td>1</td>\n      <td>1</td>\n    </tr>\n    <tr>\n      <th>1</th>\n      <td>2</td>\n      <td>18</td>\n      <td>2</td>\n      <td>8.0</td>\n      <td>2</td>\n      <td>2</td>\n      <td>0</td>\n    </tr>\n    <tr>\n      <th>2</th>\n      <td>3</td>\n      <td>18</td>\n      <td>3</td>\n      <td>6.0</td>\n      <td>3</td>\n      <td>3</td>\n      <td>0</td>\n    </tr>\n    <tr>\n      <th>3</th>\n      <td>4</td>\n      <td>18</td>\n      <td>4</td>\n      <td>5.0</td>\n      <td>4</td>\n      <td>4</td>\n      <td>0</td>\n    </tr>\n    <tr>\n      <th>4</th>\n      <td>5</td>\n      <td>18</td>\n      <td>5</td>\n      <td>4.0</td>\n      <td>5</td>\n      <td>5</td>\n      <td>0</td>\n    </tr>\n  </tbody>\n</table>\n</div>",
                        "text/plain": "   driverStandingsId  raceId  driverId  points  position positionText  wins\n0                  1      18         1    10.0         1            1     1\n1                  2      18         2     8.0         2            2     0\n2                  3      18         3     6.0         3            3     0\n3                  4      18         4     5.0         4            4     0\n4                  5      18         5     4.0         5            5     0"
                    },
                    "execution_count": 21,
                    "metadata": {},
                    "output_type": "execute_result"
                }
            ],
            "source": "driv_stand.head()"
        },
        {
            "cell_type": "code",
            "execution_count": 22,
            "metadata": {},
            "outputs": [
                {
                    "data": {
                        "text/html": "<div>\n<style scoped>\n    .dataframe tbody tr th:only-of-type {\n        vertical-align: middle;\n    }\n\n    .dataframe tbody tr th {\n        vertical-align: top;\n    }\n\n    .dataframe thead th {\n        text-align: right;\n    }\n</style>\n<table border=\"1\" class=\"dataframe\">\n  <thead>\n    <tr style=\"text-align: right;\">\n      <th></th>\n      <th>circuitId</th>\n      <th>circuitRef</th>\n      <th>name</th>\n      <th>location</th>\n      <th>country</th>\n      <th>alt</th>\n    </tr>\n  </thead>\n  <tbody>\n    <tr>\n      <th>0</th>\n      <td>1</td>\n      <td>albert_park</td>\n      <td>Albert Park Grand Prix Circuit</td>\n      <td>Melbourne</td>\n      <td>Australia</td>\n      <td>10</td>\n    </tr>\n    <tr>\n      <th>1</th>\n      <td>2</td>\n      <td>sepang</td>\n      <td>Sepang International Circuit</td>\n      <td>Kuala Lumpur</td>\n      <td>Malaysia</td>\n      <td>18</td>\n    </tr>\n    <tr>\n      <th>2</th>\n      <td>3</td>\n      <td>bahrain</td>\n      <td>Bahrain International Circuit</td>\n      <td>Sakhir</td>\n      <td>Bahrain</td>\n      <td>7</td>\n    </tr>\n    <tr>\n      <th>3</th>\n      <td>4</td>\n      <td>catalunya</td>\n      <td>Circuit de Barcelona-Catalunya</td>\n      <td>Montmel\u00f3</td>\n      <td>Spain</td>\n      <td>109</td>\n    </tr>\n    <tr>\n      <th>4</th>\n      <td>5</td>\n      <td>istanbul</td>\n      <td>Istanbul Park</td>\n      <td>Istanbul</td>\n      <td>Turkey</td>\n      <td>130</td>\n    </tr>\n  </tbody>\n</table>\n</div>",
                        "text/plain": "   circuitId   circuitRef                            name      location  \\\n0          1  albert_park  Albert Park Grand Prix Circuit     Melbourne   \n1          2       sepang    Sepang International Circuit  Kuala Lumpur   \n2          3      bahrain   Bahrain International Circuit        Sakhir   \n3          4    catalunya  Circuit de Barcelona-Catalunya      Montmel\u00f3   \n4          5     istanbul                   Istanbul Park      Istanbul   \n\n     country  alt  \n0  Australia   10  \n1   Malaysia   18  \n2    Bahrain    7  \n3      Spain  109  \n4     Turkey  130  "
                    },
                    "execution_count": 22,
                    "metadata": {},
                    "output_type": "execute_result"
                }
            ],
            "source": "df_data.head()"
        },
        {
            "cell_type": "code",
            "execution_count": 39,
            "metadata": {},
            "outputs": [
                {
                    "data": {
                        "text/html": "<div>\n<style scoped>\n    .dataframe tbody tr th:only-of-type {\n        vertical-align: middle;\n    }\n\n    .dataframe tbody tr th {\n        vertical-align: top;\n    }\n\n    .dataframe thead th {\n        text-align: right;\n    }\n</style>\n<table border=\"1\" class=\"dataframe\">\n  <thead>\n    <tr style=\"text-align: right;\">\n      <th></th>\n      <th>driverStandingsId</th>\n      <th>raceId</th>\n      <th>driverId</th>\n      <th>points</th>\n      <th>position</th>\n      <th>positionText</th>\n      <th>wins</th>\n      <th>year</th>\n      <th>round</th>\n      <th>circuitId</th>\n      <th>name</th>\n    </tr>\n  </thead>\n  <tbody>\n    <tr>\n      <th>0</th>\n      <td>1</td>\n      <td>18</td>\n      <td>1</td>\n      <td>10.0</td>\n      <td>1</td>\n      <td>1</td>\n      <td>1</td>\n      <td>2008</td>\n      <td>1</td>\n      <td>1</td>\n      <td>Australian Grand Prix</td>\n    </tr>\n    <tr>\n      <th>1</th>\n      <td>2</td>\n      <td>18</td>\n      <td>2</td>\n      <td>8.0</td>\n      <td>2</td>\n      <td>2</td>\n      <td>0</td>\n      <td>2008</td>\n      <td>1</td>\n      <td>1</td>\n      <td>Australian Grand Prix</td>\n    </tr>\n    <tr>\n      <th>2</th>\n      <td>3</td>\n      <td>18</td>\n      <td>3</td>\n      <td>6.0</td>\n      <td>3</td>\n      <td>3</td>\n      <td>0</td>\n      <td>2008</td>\n      <td>1</td>\n      <td>1</td>\n      <td>Australian Grand Prix</td>\n    </tr>\n    <tr>\n      <th>3</th>\n      <td>4</td>\n      <td>18</td>\n      <td>4</td>\n      <td>5.0</td>\n      <td>4</td>\n      <td>4</td>\n      <td>0</td>\n      <td>2008</td>\n      <td>1</td>\n      <td>1</td>\n      <td>Australian Grand Prix</td>\n    </tr>\n    <tr>\n      <th>4</th>\n      <td>5</td>\n      <td>18</td>\n      <td>5</td>\n      <td>4.0</td>\n      <td>5</td>\n      <td>5</td>\n      <td>0</td>\n      <td>2008</td>\n      <td>1</td>\n      <td>1</td>\n      <td>Australian Grand Prix</td>\n    </tr>\n  </tbody>\n</table>\n</div>",
                        "text/plain": "   driverStandingsId  raceId  driverId  points  position positionText  wins  \\\n0                  1      18         1    10.0         1            1     1   \n1                  2      18         2     8.0         2            2     0   \n2                  3      18         3     6.0         3            3     0   \n3                  4      18         4     5.0         4            4     0   \n4                  5      18         5     4.0         5            5     0   \n\n   year  round  circuitId                   name  \n0  2008      1          1  Australian Grand Prix  \n1  2008      1          1  Australian Grand Prix  \n2  2008      1          1  Australian Grand Prix  \n3  2008      1          1  Australian Grand Prix  \n4  2008      1          1  Australian Grand Prix  "
                    },
                    "execution_count": 39,
                    "metadata": {},
                    "output_type": "execute_result"
                }
            ],
            "source": "df_sub_data1 = driv_stand.merge(df_races, on='raceId', how='inner')\ndf_sub_data1.head()"
        },
        {
            "cell_type": "code",
            "execution_count": 41,
            "metadata": {},
            "outputs": [
                {
                    "data": {
                        "text/html": "<div>\n<style scoped>\n    .dataframe tbody tr th:only-of-type {\n        vertical-align: middle;\n    }\n\n    .dataframe tbody tr th {\n        vertical-align: top;\n    }\n\n    .dataframe thead th {\n        text-align: right;\n    }\n</style>\n<table border=\"1\" class=\"dataframe\">\n  <thead>\n    <tr style=\"text-align: right;\">\n      <th></th>\n      <th>driverStandingsId</th>\n      <th>raceId</th>\n      <th>driverId</th>\n      <th>points</th>\n      <th>position</th>\n      <th>positionText</th>\n      <th>wins</th>\n      <th>year</th>\n      <th>round</th>\n      <th>circuitId</th>\n      <th>name</th>\n      <th>driverRef</th>\n      <th>forename</th>\n      <th>surname</th>\n    </tr>\n  </thead>\n  <tbody>\n    <tr>\n      <th>0</th>\n      <td>1</td>\n      <td>18</td>\n      <td>1</td>\n      <td>10.0</td>\n      <td>1</td>\n      <td>1</td>\n      <td>1</td>\n      <td>2008</td>\n      <td>1</td>\n      <td>1</td>\n      <td>Australian Grand Prix</td>\n      <td>hamilton</td>\n      <td>Lewis</td>\n      <td>Hamilton</td>\n    </tr>\n    <tr>\n      <th>1</th>\n      <td>9</td>\n      <td>19</td>\n      <td>1</td>\n      <td>14.0</td>\n      <td>1</td>\n      <td>1</td>\n      <td>1</td>\n      <td>2008</td>\n      <td>2</td>\n      <td>2</td>\n      <td>Malaysian Grand Prix</td>\n      <td>hamilton</td>\n      <td>Lewis</td>\n      <td>Hamilton</td>\n    </tr>\n    <tr>\n      <th>2</th>\n      <td>27</td>\n      <td>20</td>\n      <td>1</td>\n      <td>14.0</td>\n      <td>3</td>\n      <td>3</td>\n      <td>1</td>\n      <td>2008</td>\n      <td>3</td>\n      <td>3</td>\n      <td>Bahrain Grand Prix</td>\n      <td>hamilton</td>\n      <td>Lewis</td>\n      <td>Hamilton</td>\n    </tr>\n    <tr>\n      <th>3</th>\n      <td>48</td>\n      <td>21</td>\n      <td>1</td>\n      <td>20.0</td>\n      <td>2</td>\n      <td>2</td>\n      <td>1</td>\n      <td>2008</td>\n      <td>4</td>\n      <td>4</td>\n      <td>Spanish Grand Prix</td>\n      <td>hamilton</td>\n      <td>Lewis</td>\n      <td>Hamilton</td>\n    </tr>\n    <tr>\n      <th>4</th>\n      <td>69</td>\n      <td>22</td>\n      <td>1</td>\n      <td>28.0</td>\n      <td>3</td>\n      <td>3</td>\n      <td>1</td>\n      <td>2008</td>\n      <td>5</td>\n      <td>5</td>\n      <td>Turkish Grand Prix</td>\n      <td>hamilton</td>\n      <td>Lewis</td>\n      <td>Hamilton</td>\n    </tr>\n  </tbody>\n</table>\n</div>",
                        "text/plain": "   driverStandingsId  raceId  driverId  points  position positionText  wins  \\\n0                  1      18         1    10.0         1            1     1   \n1                  9      19         1    14.0         1            1     1   \n2                 27      20         1    14.0         3            3     1   \n3                 48      21         1    20.0         2            2     1   \n4                 69      22         1    28.0         3            3     1   \n\n   year  round  circuitId                   name driverRef forename   surname  \n0  2008      1          1  Australian Grand Prix  hamilton    Lewis  Hamilton  \n1  2008      2          2   Malaysian Grand Prix  hamilton    Lewis  Hamilton  \n2  2008      3          3     Bahrain Grand Prix  hamilton    Lewis  Hamilton  \n3  2008      4          4     Spanish Grand Prix  hamilton    Lewis  Hamilton  \n4  2008      5          5     Turkish Grand Prix  hamilton    Lewis  Hamilton  "
                    },
                    "execution_count": 41,
                    "metadata": {},
                    "output_type": "execute_result"
                }
            ],
            "source": "df_sub_data2 = df_sub_data1.merge(df_drivers, on='driverId', how='inner')\ndf_sub_data2.head()"
        },
        {
            "cell_type": "code",
            "execution_count": 54,
            "metadata": {},
            "outputs": [],
            "source": "df_sub_data2.to_csv (r'C:\\Users\\sdelima\\Desktop\\export_dataframe.csv', index = False, header=True)"
        },
        {
            "cell_type": "code",
            "execution_count": 56,
            "metadata": {},
            "outputs": [
                {
                    "ename": "NameError",
                    "evalue": "name 'save_data' is not defined",
                    "output_type": "error",
                    "traceback": [
                        "\u001b[0;31m---------------------------------------------------------------------------\u001b[0m",
                        "\u001b[0;31mNameError\u001b[0m                                 Traceback (most recent call last)",
                        "\u001b[0;32m/tmp/wsuser/ipykernel_155/3863453972.py\u001b[0m in \u001b[0;36m<module>\u001b[0;34m\u001b[0m\n\u001b[0;32m----> 1\u001b[0;31m \u001b[0msave_data\u001b[0m\u001b[0;34m(\u001b[0m\u001b[0mdf_data\u001b[0m\u001b[0;34m,\u001b[0m \u001b[0mdf_sub_data2\u001b[0m\u001b[0;34m,\u001b[0m \u001b[0mset_project_asset\u001b[0m\u001b[0;34m=\u001b[0m\u001b[0;32mTrue\u001b[0m\u001b[0;34m,\u001b[0m \u001b[0moverwrite\u001b[0m\u001b[0;34m=\u001b[0m\u001b[0;32mFalse\u001b[0m\u001b[0;34m)\u001b[0m\u001b[0;34m\u001b[0m\u001b[0;34m\u001b[0m\u001b[0m\n\u001b[0m",
                        "\u001b[0;31mNameError\u001b[0m: name 'save_data' is not defined"
                    ]
                }
            ],
            "source": "save_data(df_data, df_sub_data2, set_project_asset=True, overwrite=False)"
        },
        {
            "cell_type": "code",
            "execution_count": null,
            "metadata": {},
            "outputs": [],
            "source": ""
        }
    ],
    "metadata": {
        "kernelspec": {
            "display_name": "Python 3.8",
            "language": "python",
            "name": "python3"
        },
        "language_info": {
            "codemirror_mode": {
                "name": "ipython",
                "version": 3
            },
            "file_extension": ".py",
            "mimetype": "text/x-python",
            "name": "python",
            "nbconvert_exporter": "python",
            "pygments_lexer": "ipython3",
            "version": "3.8.12"
        }
    },
    "nbformat": 4,
    "nbformat_minor": 1
}